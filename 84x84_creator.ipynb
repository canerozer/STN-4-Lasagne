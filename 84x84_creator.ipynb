{
 "cells": [
  {
   "cell_type": "code",
   "execution_count": 1,
   "metadata": {
    "collapsed": true,
    "deletable": true,
    "editable": true
   },
   "outputs": [],
   "source": [
    "import cv2\n",
    "import numpy as np \n",
    "import os \n",
    "import random \n",
    "from datetime import datetime\n",
    "import timeit, time\n"
   ]
  },
  {
   "cell_type": "code",
   "execution_count": 2,
   "metadata": {
    "collapsed": false,
    "deletable": true,
    "editable": true
   },
   "outputs": [],
   "source": [
    "os.chdir('/home/dl2/caner_grad/MNIST_RESULTS/') \n",
    "# train_info = open(\"original_mnist/original_mnist_train.txt\", \"r\") \n",
    "test_info = open(\"original_mnist/original_mnist_test.txt\", \"r\") \n",
    "lasagne_info_test = open(\"90_derece/10k_10k_test\", \"w\")\n",
    "# lasagne_info_train = open(\"90_derece/50k_50k_train\", \"w\")\n",
    "# locations_train = [] \n",
    "# image_nr_train = [] \n",
    "# lines_train = train_info.readlines()\n",
    "# classes_train = []\n",
    "locations_test = []\n",
    "image_nr_test = []\n",
    "lines_test = test_info.readlines()\n",
    "classes_test = []\n",
    "\n",
    "classes_per_each_train = np.zeros(10, dtype=np.int)\n",
    "classes_per_each_test = np.zeros(10, dtype=np.int)"
   ]
  },
  {
   "cell_type": "code",
   "execution_count": null,
   "metadata": {
    "collapsed": false,
    "deletable": true,
    "editable": true
   },
   "outputs": [],
   "source": [
    "for i in xrange(60000): \n",
    "    line = lines_train[i].split(' ') \n",
    "    locations_train.append(line[0]) \n",
    "    image_nr_train.append(line[0][line[0].find(\"/\", 56)+1:line[0].find(\".\")]) \n",
    "    #print locations[i]\n",
    "    #print locations[i][(int(image_nr[i]+1)):]\n",
    "    classes_train.append(line[1][:1])\n",
    "    #print classes[i]+\"/\"+locations[i][(int(image_nr[i]+1)):]\n",
    "    #print \"\"\n"
   ]
  },
  {
   "cell_type": "code",
   "execution_count": 3,
   "metadata": {
    "collapsed": true,
    "deletable": true,
    "editable": true
   },
   "outputs": [],
   "source": [
    "for i in xrange(10000): \n",
    "    line = lines_test[i].split(' ') \n",
    "    locations_test.append(line[0]) \n",
    "    image_nr_test.append(line[0][line[0].find(\"/\", 56)+1:line[0].find(\".\")]) \n",
    "    #print locations[i]\n",
    "    #print locations[i][(int(image_nr[i]+1)):]\n",
    "    classes_test.append(line[1][:1])\n",
    "    #print classes[i]+\"/\"+locations[i][(int(image_nr[i]+1)):]\n",
    "    #print \"\""
   ]
  },
  {
   "cell_type": "code",
   "execution_count": null,
   "metadata": {
    "collapsed": false,
    "deletable": true,
    "editable": true
   },
   "outputs": [],
   "source": [
    "print lines_train[59999]\n",
    "print locations_train[59999]\n",
    "print image_nr_train[59999]\n",
    "print classes_train[59999]\n",
    "\n",
    "print \"Done!\"\n",
    "\n",
    "#As this set will be extended, the enumerator will iterate the numbers from 50000, since the original\n",
    "#dataset have image numbers from 0 to 49999"
   ]
  },
  {
   "cell_type": "code",
   "execution_count": null,
   "metadata": {
    "collapsed": false,
    "deletable": true,
    "editable": true
   },
   "outputs": [],
   "source": [
    "#FOR TRAINING DATA\n",
    "DIM = 60\n",
    "angle = 90\n",
    "t_start = time.time()\n",
    "classes_trainx = np.zeros(10, dtype=np.int32)\n",
    "for i in xrange(120000):\n",
    "    img = cv2.imread(locations_train[i%60000],cv2.IMREAD_GRAYSCALE) #reading\n",
    "    rows,cols = img.shape #gets the row and col dim\n",
    "    M = cv2.getRotationMatrix2D((cols/2,rows/2),0,1) #creates the rot matrix obj \n",
    "    if i/60000 == 1:\n",
    "        M = cv2.getRotationMatrix2D((cols/2,rows/2),angle,1) #creates the rot matrix obj \n",
    "    dst = cv2.warpAffine(img,M,(cols,rows)) #applies the transform \n",
    "    new_img = np.zeros((DIM,DIM), np.uint8)\n",
    "    new_rols, new_cols = new_img.shape\n",
    "    x_random = np.random.randint(0,new_rols - rows-1) \n",
    "    y_random = np.random.randint(0,new_cols - cols-1) \n",
    "    new_img[x_random:x_random+rows,y_random:y_random+cols] = dst\n",
    "    new_img = np.zeros((DIM,DIM), np.uint8)\n",
    "    new_rols, new_cols = new_img.shape\n",
    "    x_random = np.random.randint(0,new_rols - rows-1) \n",
    "    y_random = np.random.randint(0,new_cols - cols-1) \n",
    "    new_img[x_random:x_random+rows,y_random:y_random+cols] = dst\n",
    "    cv2.imwrite(\"/home/dl2/caner_grad/MNIST_RESULTS/90_derece/50k+50k_train/\"+str(classes_train[i%60000])+\"/\"+str(i)+\".png\", new_img)\n",
    "    lasagne_info_train.write(\"/home/dl2/caner_grad/MNIST_RESULTS/90_derece/50k+50k_train/\"+str(classes_train[i%60000])+\"/\"+str(i)+\".png \"+classes_train[i%60000]+\"\\n\")\n",
    "    classes_trainx[int(classes_train[i%60000])] += 1\n",
    "#     rand_img = np.random.randint(60000)\n",
    "#     img = cv2.imread(locations_train[rand_img],cv2.IMREAD_GRAYSCALE) #reading \n",
    "#     rows,cols = img.shape #gets the row and col dim\n",
    "#     angle = 15*np.random.random_sample()\n",
    "#     M = cv2.getRotationMatrix2D((cols/2,rows/2),angle,1) #creates the rot matrix obj \n",
    "#     dst = cv2.warpAffine(img,M,(cols,rows)) #applies the transform \n",
    "#     new_img = np.zeros((84,84), np.uint8)\n",
    "#     new_rols, new_cols = new_img.shape\n",
    "#     x_random = np.random.randint(0,new_rols - rows-1) \n",
    "#     y_random = np.random.randint(0,new_cols - cols-1) \n",
    "#     new_img[x_random:x_random+rows,y_random:y_random+cols] = dst\n",
    "#     cv2.imwrite(\"/home/dl/caner_grad/MNIST_RESULTS/2m_rot0:15_trans_mnist/train/\"+str(classes_train[rand_img])+\"/\"+str(locations_train[rand_img][(int(image_nr_train[rand_img])+1):])+str(int(i))+\".png\",new_img) \n",
    "#     lasagne_info_train.write(\"/home/dl/caner_grad/MNIST_RESULTS/2m_rot0:15_trans_mnist/train/\"+str(classes_train[rand_img])+\"/\"+str(locations_train[rand_img][(int(image_nr_train[rand_img])+1):])+str(int(i))+\".png \"+classes_train[rand_img]+'\\n')\n",
    "#     #writes the image\n",
    "#     classes_per_each_train[int(classes_train[rand_img])]+=1\n",
    "t_end = time.time()\n",
    "print t_start - t_end\n",
    "lasagne_info_train.close()"
   ]
  },
  {
   "cell_type": "code",
   "execution_count": null,
   "metadata": {
    "collapsed": false,
    "deletable": true,
    "editable": true
   },
   "outputs": [],
   "source": [
    "print classes_trainx[:]\n",
    "from itertools import groupby\n",
    "print [len(list(group)) for key, group in groupby(classes_train)]\n",
    "print i\n"
   ]
  },
  {
   "cell_type": "code",
   "execution_count": 4,
   "metadata": {
    "collapsed": false,
    "deletable": true,
    "editable": true
   },
   "outputs": [
    {
     "name": "stdout",
     "output_type": "stream",
     "text": [
      "20000\n"
     ]
    }
   ],
   "source": [
    "#FOR TEST DATA\n",
    "%timeit\n",
    "count = 0\n",
    "DIM = 60\n",
    "which_rotations = [0, 90]\n",
    "for i in xrange(10000*(len(which_rotations))): \n",
    "        img = cv2.imread(locations_test[i%10000],cv2.IMREAD_GRAYSCALE) #reading \n",
    "        rows,cols = img.shape #gets the row and col dim\n",
    "        M = cv2.getRotationMatrix2D((cols/2,rows/2),which_rotations[i/10000],1) #creates the rot matrix obj\n",
    "        dst = cv2.warpAffine(img,M,(cols,rows)) #applies the transform \n",
    "        new_img = np.zeros((DIM,DIM), np.uint8)\n",
    "        new_rols, new_cols = new_img.shape\n",
    "        x_random = np.random.randint(0,new_rols - rows-1) \n",
    "        y_random = np.random.randint(0,new_cols - cols-1) \n",
    "        new_img[x_random:x_random+rows,y_random:y_random+cols] = dst\n",
    "        cv2.imwrite(\"/home/dl2/caner_grad/MNIST_RESULTS/90_derece/10k+10k_test/\"+str(classes_test[i%10000])+\"/\"+str(i)+\".png\", new_img) \n",
    "        lasagne_info_test.write(\"/home/dl2/caner_grad/MNIST_RESULTS/90_derece/10k+10k_test/\"+str(classes_test[i%10000])+\"/\"+str(i)+\".png \"+str(classes_test[i%10000]+\"\\n\"))\n",
    "        count += 1\n",
    "        #writes the image\n",
    "print count\n",
    "lasagne_info_test.close()"
   ]
  },
  {
   "cell_type": "code",
   "execution_count": null,
   "metadata": {
    "collapsed": false,
    "deletable": true,
    "editable": true
   },
   "outputs": [],
   "source": []
  },
  {
   "cell_type": "code",
   "execution_count": null,
   "metadata": {
    "collapsed": false,
    "deletable": true,
    "editable": true
   },
   "outputs": [],
   "source": [
    "print str(locations_train[rand_img][(int(image_nr_train[rand_img])+1):])"
   ]
  },
  {
   "cell_type": "code",
   "execution_count": null,
   "metadata": {
    "collapsed": false,
    "deletable": true,
    "editable": true
   },
   "outputs": [],
   "source": [
    "print classes_per_each_train"
   ]
  },
  {
   "cell_type": "code",
   "execution_count": null,
   "metadata": {
    "collapsed": false,
    "deletable": true,
    "editable": true
   },
   "outputs": [],
   "source": [
    "sum(classes_per_each_train)"
   ]
  }
 ],
 "metadata": {
  "kernelspec": {
   "display_name": "Python 2",
   "language": "python",
   "name": "python2"
  },
  "language_info": {
   "codemirror_mode": {
    "name": "ipython",
    "version": 2
   },
   "file_extension": ".py",
   "mimetype": "text/x-python",
   "name": "python",
   "nbconvert_exporter": "python",
   "pygments_lexer": "ipython2",
   "version": "2.7.6"
  }
 },
 "nbformat": 4,
 "nbformat_minor": 1
}
