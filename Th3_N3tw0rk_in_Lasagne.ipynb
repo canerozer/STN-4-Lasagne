{
 "cells": [
  {
   "cell_type": "code",
   "execution_count": 1,
   "metadata": {
    "collapsed": false,
    "deletable": true,
    "editable": true
   },
   "outputs": [
    {
     "name": "stderr",
     "output_type": "stream",
     "text": [
      "Using gpu device 0: GeForce GTX 1080 (CNMeM is disabled, cuDNN 5110)\n",
      "/usr/local/lib/python2.7/dist-packages/theano/sandbox/cuda/__init__.py:600: UserWarning: Your cuDNN version is more recent than the one Theano officially supports. If you see any problems, try updating Theano or downgrading cuDNN to version 5.\n",
      "  warnings.warn(warn)\n",
      "/usr/local/lib/python2.7/dist-packages/theano/tensor/signal/downsample.py:6: UserWarning: downsample module has been moved to the theano.tensor.signal.pool module.\n",
      "  \"downsample module has been moved to the theano.tensor.signal.pool module.\")\n"
     ]
    }
   ],
   "source": [
    "%matplotlib inline\n",
    "import os\n",
    "os.environ['THEANO_FLAGS']='device=gpu0'\n",
    "\n",
    "import matplotlib\n",
    "import numpy as np\n",
    "np.random.seed(123)\n",
    "import matplotlib.pyplot as plt\n",
    "import lasagne\n",
    "import theano\n",
    "import theano.tensor as T\n",
    "conv = lasagne.layers.Conv2DLayer\n",
    "pool = lasagne.layers.MaxPool2DLayer\n",
    "\n",
    "from lasagne.utils import as_tuple, floatX\n",
    "from lasagne.random import get_rng\n",
    "import cv2\n",
    "\n",
    "NUM_EPOCHS = 101\n",
    "BATCH_SIZE = 256\n",
    "LEARNING_RATE = 0.001\n",
    "DIM = 60\n",
    "NUM_CLASSES = 10\n",
    "mnist_cluttered = \"mnist_cluttered_60x60_6distortions.npz\"\n",
    "#INPUT FILE DEGISTIRILECEK"
   ]
  },
  {
   "cell_type": "code",
   "execution_count": 2,
   "metadata": {
    "collapsed": false,
    "deletable": true,
    "editable": true
   },
   "outputs": [],
   "source": [
    "class TransformerLayer(lasagne.layers.MergeLayer):\n",
    "    \"\"\"\n",
    "    Spatial transformer layer\n",
    "    The layer applies an affine transformation on the input. The affine\n",
    "    transformation is parameterized with six learned parameters [1]_.\n",
    "    The output is interpolated with a bilinear transformation.\n",
    "    Parameters\n",
    "    ----------\n",
    "    incoming : a :class:`Layer` instance or a tuple\n",
    "        The layer feeding into this layer, or the expected input shape. The\n",
    "        output of this layer should be a 4D tensor, with shape\n",
    "        ``(batch_size, num_input_channels, input_rows, input_columns)``.\n",
    "    localization_network : a :class:`Layer` instance\n",
    "        The network that calculates the parameters of the affine\n",
    "        transformation. See the example for how to initialize to the identity\n",
    "        transform.\n",
    "    downsample_factor : float or iterable of float\n",
    "        A float or a 2-element tuple specifying the downsample factor for the\n",
    "        output image (in both spatial dimensions). A value of 1 will keep the\n",
    "        original size of the input. Values larger than 1 will downsample the\n",
    "        input. Values below 1 will upsample the input.\n",
    "    References\n",
    "    ----------\n",
    "    .. [1]  Max Jaderberg, Karen Simonyan, Andrew Zisserman,\n",
    "            Koray Kavukcuoglu (2015):\n",
    "            Spatial Transformer Networks. NIPS 2015,\n",
    "            http://papers.nips.cc/paper/5854-spatial-transformer-networks.pdf\n",
    "    Examples\n",
    "    --------\n",
    "    Here we set up the layer to initially do the identity transform, similarly\n",
    "    to [1]_. Note that you will want to use a localization with linear output.\n",
    "    If the output from the localization networks is [t1, t2, t3, t4, t5, t6]\n",
    "    then t1 and t5 determines zoom, t2 and t4 determines skewness, and t3 and\n",
    "    t6 move the center position.\n",
    "    >>> import numpy as np\n",
    "    >>> import lasagne\n",
    "    >>> b = np.zeros((2, 3), dtype='float32')\n",
    "    >>> b[0, 0] = 1\n",
    "    >>> b[1, 1] = 1\n",
    "    >>> b = b.flatten()  # identity transform\n",
    "    >>> W = lasagne.init.Constant(0.0)\n",
    "    >>> l_in = lasagne.layers.InputLayer((None, 3, 28, 28))\n",
    "    >>> l_loc = lasagne.layers.DenseLayer(l_in, num_units=6, W=W, b=b,\n",
    "    ... nonlinearity=None)\n",
    "    >>> l_trans = lasagne.layers.TransformerLayer(l_in, l_loc)\n",
    "    \"\"\"\n",
    "    def __init__(self, incoming, localization_network, downsample_factor=1,\n",
    "                 **kwargs):\n",
    "        super(TransformerLayer, self).__init__(\n",
    "            [incoming, localization_network], **kwargs)\n",
    "        self.downsample_factor = as_tuple(downsample_factor, 2)\n",
    "\n",
    "        input_shp, loc_shp = self.input_shapes\n",
    "\n",
    "        if loc_shp[-1] != 6 or len(loc_shp) != 2:\n",
    "            raise ValueError(\"The localization network must have \"\n",
    "                             \"output shape: (batch_size, 6)\")\n",
    "        if len(input_shp) != 4:\n",
    "            raise ValueError(\"The input network must have a 4-dimensional \"\n",
    "                             \"output shape: (batch_size, num_input_channels, \"\n",
    "                             \"input_rows, input_columns)\")\n",
    "\n",
    "    def get_output_shape_for(self, input_shapes):\n",
    "        shape = input_shapes[0]\n",
    "        factors = self.downsample_factor\n",
    "        return (shape[:2] + tuple(None if s is None else int(s // f)\n",
    "                                  for s, f in zip(shape[2:], factors)))\n",
    "\n",
    "    def get_output_for(self, inputs, **kwargs):\n",
    "        # see eq. (1) and sec 3.1 in [1]\n",
    "        input, theta = inputs\n",
    "        self.x, self.y = _transform_affine(theta, input, self.downsample_factor)\n",
    "        return self.x\n",
    "    \n",
    "def _meshgrid(height, width):\n",
    "    # This function is the grid generator from eq. (1) in reference [1].\n",
    "    # It is equivalent to the following numpy code:\n",
    "    #  x_t, y_t = np.meshgrid(np.linspace(-1, 1, width),\n",
    "    #                         np.linspace(-1, 1, height))\n",
    "    #  ones = np.ones(np.prod(x_t.shape))\n",
    "    #  grid = np.vstack([x_t.flatten(), y_t.flatten(), ones])\n",
    "    # It is implemented in Theano instead to support symbolic grid sizes.\n",
    "    # Note: If the image size is known at layer construction time, we could\n",
    "    # compute the meshgrid offline in numpy instead of doing it dynamically\n",
    "    # in Theano. However, it hardly affected performance when we tried.\n",
    "    x_t = T.dot(T.ones((height, 1)),\n",
    "                _linspace(-1.0, 1.0, width).dimshuffle('x', 0))\n",
    "    y_t = T.dot(_linspace(-1.0, 1.0, height).dimshuffle(0, 'x'),\n",
    "                T.ones((1, width)))\n",
    "\n",
    "    x_t_flat = x_t.reshape((1, -1))\n",
    "    y_t_flat = y_t.reshape((1, -1))\n",
    "    ones = T.ones_like(x_t_flat)\n",
    "    grid = T.concatenate([x_t_flat, y_t_flat, ones], axis=0)\n",
    "    return grid\n",
    "    \n",
    "def _transform_affine(theta, input, downsample_factor):\n",
    "    num_batch, num_channels, height, width = input.shape\n",
    "    theta = T.reshape(theta, (-1, 2, 3))\n",
    "    \n",
    "    # grid of (x_t, y_t, 1), eq (1) in ref [1]\n",
    "    out_height = T.cast(height // downsample_factor[0], 'int64')\n",
    "    out_width = T.cast(width // downsample_factor[1], 'int64')\n",
    "    grid = _meshgrid(out_height, out_width)\n",
    "\n",
    "    # Transform A x (x_t, y_t, 1)^T -> (x_s, y_s)\n",
    "    T_g = T.dot(theta, grid)\n",
    "    x_s = T_g[:, 0]\n",
    "    y_s = T_g[:, 1]\n",
    "    x_s_flat = x_s.flatten()\n",
    "    y_s_flat = y_s.flatten()\n",
    "\n",
    "    # dimshuffle input to  (bs, height, width, channels)\n",
    "    input_dim = input.dimshuffle(0, 2, 3, 1)\n",
    "    input_transformed = _interpolate(\n",
    "        input_dim, x_s_flat, y_s_flat,\n",
    "        out_height, out_width)\n",
    "\n",
    "    output = T.reshape(\n",
    "        input_transformed, (num_batch, out_height, out_width, num_channels))\n",
    "    output = output.dimshuffle(0, 3, 1, 2)  # dimshuffle to conv format\n",
    "    return output, T_g\n",
    "#OUTPUT: T_g is also included.\n",
    "\n",
    "def _linspace(start, stop, num):\n",
    "    # Theano linspace. Behaves similar to np.linspace\n",
    "    start = T.cast(start, theano.config.floatX)\n",
    "    stop = T.cast(stop, theano.config.floatX)\n",
    "    num = T.cast(num, theano.config.floatX)\n",
    "    step = (stop-start)/(num-1)\n",
    "    return T.arange(num, dtype=theano.config.floatX)*step+start\n",
    "\n",
    "def _interpolate(im, x, y, out_height, out_width):\n",
    "    # *_f are floats\n",
    "    num_batch, height, width, channels = im.shape\n",
    "    height_f = T.cast(height, theano.config.floatX)\n",
    "    width_f = T.cast(width, theano.config.floatX)\n",
    "\n",
    "    # clip coordinates to [-1, 1]\n",
    "    x = T.clip(x, -1, 1)\n",
    "    y = T.clip(y, -1, 1)\n",
    "\n",
    "    # scale coordinates from [-1, 1] to [0, width/height - 1]\n",
    "    x = (x + 1) / 2 * (width_f - 1)\n",
    "    y = (y + 1) / 2 * (height_f - 1)\n",
    "\n",
    "    # obtain indices of the 2x2 pixel neighborhood surrounding the coordinates;\n",
    "    # we need those in floatX for interpolation and in int64 for indexing. for\n",
    "    # indexing, we need to take care they do not extend past the image.\n",
    "    x0_f = T.floor(x)\n",
    "    y0_f = T.floor(y)\n",
    "    x1_f = x0_f + 1\n",
    "    y1_f = y0_f + 1\n",
    "    x0 = T.cast(x0_f, 'int64')\n",
    "    y0 = T.cast(y0_f, 'int64')\n",
    "    x1 = T.cast(T.minimum(x1_f, width_f - 1), 'int64')\n",
    "    y1 = T.cast(T.minimum(y1_f, height_f - 1), 'int64')\n",
    "\n",
    "    # The input is [num_batch, height, width, channels]. We do the lookup in\n",
    "    # the flattened input, i.e [num_batch*height*width, channels]. We need\n",
    "    # to offset all indices to match the flat version\n",
    "    dim2 = width\n",
    "    dim1 = width*height\n",
    "    base = T.repeat(\n",
    "        T.arange(num_batch, dtype='int64')*dim1, out_height*out_width)\n",
    "    base_y0 = base + y0*dim2\n",
    "    base_y1 = base + y1*dim2\n",
    "    idx_a = base_y0 + x0\n",
    "    idx_b = base_y1 + x0\n",
    "    idx_c = base_y0 + x1\n",
    "    idx_d = base_y1 + x1\n",
    "\n",
    "    # use indices to lookup pixels for all samples\n",
    "    im_flat = im.reshape((-1, channels))\n",
    "    Ia = im_flat[idx_a]\n",
    "    Ib = im_flat[idx_b]\n",
    "    Ic = im_flat[idx_c]\n",
    "    Id = im_flat[idx_d]\n",
    "\n",
    "    # calculate interpolated values\n",
    "    wa = ((x1_f-x) * (y1_f-y)).dimshuffle(0, 'x')\n",
    "    wb = ((x1_f-x) * (y-y0_f)).dimshuffle(0, 'x')\n",
    "    wc = ((x-x0_f) * (y1_f-y)).dimshuffle(0, 'x')\n",
    "    wd = ((x-x0_f) * (y-y0_f)).dimshuffle(0, 'x')\n",
    "    output = T.sum([wa*Ia, wb*Ib, wc*Ic, wd*Id], axis=0)\n",
    "    return output\n"
   ]
  },
  {
   "cell_type": "code",
   "execution_count": 3,
   "metadata": {
    "collapsed": false,
    "deletable": true,
    "editable": true
   },
   "outputs": [
    {
     "name": "stdout",
     "output_type": "stream",
     "text": [
      "<theano.compile.function_module.Function object at 0x7f86605a4ad0>\n"
     ]
    }
   ],
   "source": [
    "import theano\n",
    "import theano.tensor\n",
    "\n",
    "x = (_meshgrid(20, 20).shape)\n",
    "\n",
    "# concrete_x = np.array([[1, 2, 3], [4, 5, 6]], dtype=np.int32)\n",
    "\n",
    "# x = theano.tensor.imatrix()\n",
    "# print x.shape.eval({x: concrete_x})\n",
    "print theano.function(inputs=[], outputs=x.shape)\n",
    "# print concrete_x.shape"
   ]
  },
  {
   "cell_type": "code",
   "execution_count": 4,
   "metadata": {
    "collapsed": false,
    "deletable": true,
    "editable": true
   },
   "outputs": [
    {
     "name": "stdout",
     "output_type": "stream",
     "text": [
      "Train samples: (200000, 1, 60, 60)\n",
      "Validation samples: (40000, 1, 60, 60)\n",
      "Test samples: (40000, 1, 60, 60)\n"
     ]
    }
   ],
   "source": [
    "import time\n",
    "# PARAMETERS\n",
    "t_start = time.time()\n",
    "test_dir = \"/home/dontgetdown/Documents/caner_grad/MNIST_IMAGES/10_45_90_derece/10k_10k_test\"\n",
    "train_dir = \"/home/dontgetdown/Documents/caner_grad/MNIST_IMAGES/10_45_90_derece/50k_50k_train\"\n",
    "out_file = \"mnist_cluttered_60x60_10_45_90degree_rotations.npz\"\n",
    "train_k = 5\n",
    "valid_k = 1\n",
    "n_classes = 10\n",
    "DIM = 60\n",
    "\n",
    "#COMMENTING STARTS IF THE FILE ALREADY EXISTS\n",
    "\n",
    "# test_file = open(test_dir, \"r\")\n",
    "# train_file = open(train_dir, \"r\")\n",
    "\n",
    "# test_file_lines = test_file.readlines()\n",
    "# test_images_loc = []\n",
    "# test_classes_pre = []\n",
    "# test_images_loc.append([test_file_lines[i].split(\" \")[0] for i in range(len(test_file_lines))])\n",
    "# test_classes_pre.append([test_file_lines[i].split(\" \")[1] for i in range(len(test_file_lines))])\n",
    "\n",
    "# trainandvalid_file_lines = train_file.readlines()\n",
    "# tv_size = len(trainandvalid_file_lines) \n",
    "# test_size = len(test_file_lines)\n",
    "\n",
    "# test_file.close()\n",
    "# train_file.close()\n",
    "\n",
    "# trainandvalid_images_loc = []\n",
    "# trainandvalid_classes_pre = []\n",
    "# trainandvalid_images_loc.append([trainandvalid_file_lines[i].split(\" \")[0] for i in range(tv_size)])\n",
    "# trainandvalid_classes_pre.append([trainandvalid_file_lines[i].split(\" \")[1] for i in range(tv_size)])\n",
    "\n",
    "# permuted_indexes = np.random.permutation(np.arange(len(trainandvalid_file_lines)))\n",
    "# train_indexes = permuted_indexes[:tv_size*train_k/(train_k+valid_k)]\n",
    "# valid_indexes = permuted_indexes[tv_size*train_k/(train_k+valid_k):tv_size]\n",
    "    \n",
    "# valid_classes_list = []\n",
    "# for i in xrange(tv_size*valid_k/(train_k+valid_k)):\n",
    "#     valid_classes_list.append(trainandvalid_classes_pre[0][valid_indexes[i]])\n",
    "\n",
    "# train_classes_list = []\n",
    "# for i in xrange(tv_size*train_k/(train_k+valid_k)):\n",
    "#     train_classes_list.append(trainandvalid_classes_pre[0][train_indexes[i]])\n",
    "    \n",
    "# test_classes = np.zeros((test_size, 10), dtype=np.int64)\n",
    "# for i in xrange(test_size):\n",
    "#     for j in range(n_classes):\n",
    "#         if int(test_classes_pre[0][i])==int(j):\n",
    "#             test_classes[i][j] = 1\n",
    "             \n",
    "# train_classes = np.zeros((tv_size*train_k/(valid_k+train_k), 10), dtype=np.int64)\n",
    "# for i in xrange(tv_size*train_k/(train_k+valid_k)):\n",
    "#     for j in xrange(n_classes):\n",
    "#         if(int(j)==int(train_classes_list[i])):\n",
    "#             train_classes[i][j] = 1 \n",
    "            \n",
    "# valid_classes = np.zeros((tv_size*valid_k/(valid_k+train_k), 10), dtype=np.int64)\n",
    "# for i in xrange(tv_size*valid_k/(train_k+valid_k)):\n",
    "#     for j in xrange(n_classes):\n",
    "#         if(int(j)==int(valid_classes_list[i])):\n",
    "#             valid_classes[i][j] = 1 \n",
    "\n",
    "# t_cl_end = time.time()\n",
    "# print t_cl_end - t_start\n",
    "\n",
    "# test_images = np.zeros((test_size, 1, DIM, DIM), dtype=np.float32)\n",
    "# train_images = np.zeros((tv_size*train_k/(valid_k+train_k), 1, DIM, DIM), dtype=np.float32)\n",
    "# valid_images = np.zeros((tv_size*valid_k/(valid_k+train_k), 1, DIM, DIM), dtype=np.float32)\n",
    "\n",
    "# for i in xrange(test_images.shape[0]):\n",
    "#     test_images[i] = cv2.imread(test_images_loc[0][i], cv2.IMREAD_GRAYSCALE)\n",
    "\n",
    "# for i in xrange(train_images.shape[0]):\n",
    "#     train_images[i] = cv2.imread(trainandvalid_images_loc[0][train_indexes[i]], cv2.IMREAD_GRAYSCALE)\n",
    "    \n",
    "# for i in xrange(valid_images.shape[0]):\n",
    "#     valid_images[i] = cv2.imread(trainandvalid_images_loc[0][valid_indexes[i]], cv2.IMREAD_GRAYSCALE)\n",
    "\n",
    "# valid_images[:] = (valid_images - 128)/(128+0.0000001)\n",
    "# test_images[:] = (test_images - 128)/(128+0.0000001)\n",
    "# train_images[:] = (train_images - 128)/(128+0.0000001)\n",
    "\n",
    "\n",
    "# dictionary = {'x_train':train_images, 'x_valid':valid_images, 'x_test':test_images, 'y_train':train_classes, \n",
    "#               'y_valid':valid_classes, 'y_test':test_classes}\n",
    "\n",
    "# t_dict_end = time.time()\n",
    "# print t_dict_end - t_cl_end\n",
    "\n",
    "# np.savez(out_file, x_train=dictionary['x_train'], y_train=dictionary['y_train'], x_test=dictionary['x_test'], y_test=dictionary['y_test'], x_valid=dictionary['x_valid'], y_valid=dictionary['y_valid']) \n",
    "# t_save_end = time.time()\n",
    "# print t_save_end - t_dict_end \n",
    "\n",
    "# COMMENTING END IF THE FILE ALREADY EXISTS\n",
    "\n",
    "mnist_90_rotated = out_file\n",
    "# THEN, BY USING A DIFFERENT NUMPY ARRAY DICTIONARY, WE WILL BE LOADING OUR DATA.\n",
    "def load_data(x):\n",
    "    data = np.load(x)\n",
    "    \n",
    "    X_train, y_train = data['x_train'], np.argmax(data['y_train'], axis=-1)\n",
    "    X_valid, y_valid = data['x_valid'], np.argmax(data['y_valid'], axis=-1)\n",
    "    X_test, y_test = data['x_test'], np.argmax(data['y_test'], axis=-1)\n",
    "\n",
    "    # reshape for convolutions\n",
    "    X_train = X_train.reshape((X_train.shape[0], 1, DIM, DIM))\n",
    "    X_valid = X_valid.reshape((X_valid.shape[0], 1, DIM, DIM))\n",
    "    X_test = X_test.reshape((X_test.shape[0], 1, DIM, DIM))\n",
    "    \n",
    "    print \"Train samples:\", X_train.shape\n",
    "    print \"Validation samples:\", X_valid.shape\n",
    "    print \"Test samples:\", X_test.shape\n",
    "\n",
    "    return dict(\n",
    "        X_train=lasagne.utils.floatX(X_train),\n",
    "        y_train=y_train.astype('int32'),\n",
    "        X_valid=lasagne.utils.floatX(X_valid),\n",
    "        y_valid=y_valid.astype('int32'),\n",
    "        X_test=lasagne.utils.floatX(X_test),\n",
    "        y_test=y_test.astype('int32'),\n",
    "        num_examples_train=X_train.shape[0],\n",
    "        num_examples_valid=X_valid.shape[0],\n",
    "        num_examples_test=X_test.shape[0],\n",
    "        input_height=X_train.shape[2],\n",
    "        input_width=X_train.shape[3],\n",
    "        output_dim=10,)\n",
    "data = load_data(mnist_90_rotated)\n",
    "# print time.time() - t_save_end\n"
   ]
  },
  {
   "cell_type": "code",
   "execution_count": 5,
   "metadata": {
    "collapsed": false,
    "deletable": true,
    "editable": true
   },
   "outputs": [
    {
     "name": "stdout",
     "output_type": "stream",
     "text": [
      "[[[-1. -1. -1. ..., -1. -1. -1.]\n",
      "  [-1. -1. -1. ..., -1. -1. -1.]\n",
      "  [-1. -1. -1. ..., -1. -1. -1.]\n",
      "  ..., \n",
      "  [-1. -1. -1. ..., -1. -1. -1.]\n",
      "  [-1. -1. -1. ..., -1. -1. -1.]\n",
      "  [-1. -1. -1. ..., -1. -1. -1.]]]\n",
      "[[[-1. -1. -1. ..., -1. -1. -1.]\n",
      "  [-1. -1. -1. ..., -1. -1. -1.]\n",
      "  [-1. -1. -1. ..., -1. -1. -1.]\n",
      "  ..., \n",
      "  [-1. -1. -1. ..., -1. -1. -1.]\n",
      "  [-1. -1. -1. ..., -1. -1. -1.]\n",
      "  [-1. -1. -1. ..., -1. -1. -1.]]]\n"
     ]
    }
   ],
   "source": [
    "print data['X_valid'][101]\n",
    "print data['X_train'][101]\n"
   ]
  },
  {
   "cell_type": "code",
   "execution_count": 6,
   "metadata": {
    "collapsed": false,
    "deletable": true,
    "editable": true
   },
   "outputs": [
    {
     "data": {
      "image/png": "[encoded data removed]",
      "text/plain": [
       "<matplotlib.figure.Figure at 0x7f8660556710>"
      ]
     },
     "metadata": {},
     "output_type": "display_data"
    }
   ],
   "source": [
    "plt.figure(figsize=(7,7))\n",
    "plt.imshow(data['X_test'][1010].reshape(DIM, DIM), cmap='gray', interpolation='none')\n",
    "plt.title('Cluttered MNIST', fontsize=20)\n",
    "plt.axis('off')\n",
    "plt.show()\n"
   ]
  },
  {
   "cell_type": "code",
   "execution_count": 7,
   "metadata": {
    "collapsed": false,
    "deletable": true,
    "editable": true
   },
   "outputs": [
    {
     "name": "stdout",
     "output_type": "stream",
     "text": [
      "Transformer network output shape:  (None, 1, 20, 20)\n"
     ]
    }
   ],
   "source": [
    "def build_model(input_width, input_height, output_dim,\n",
    "                batch_size=BATCH_SIZE):\n",
    "    ini = lasagne.init.HeUniform()\n",
    "    l_in = lasagne.layers.InputLayer(shape=(None, 1, input_width, input_height),)\n",
    "\n",
    "    # Localization network\n",
    "    b = np.zeros((2, 3), dtype=theano.config.floatX)\n",
    "    b[0, 0] = 1\n",
    "    b[1, 1] = 1\n",
    "    b = b.flatten()\n",
    "    loc_l1 = pool(l_in, pool_size=(2, 2))\n",
    "    loc_l2 = conv(\n",
    "        loc_l1, num_filters=20, filter_size=(5, 5), W=ini)\n",
    "    loc_l3 = pool(loc_l2, pool_size=(2, 2))\n",
    "    loc_l4 = conv(loc_l3, num_filters=20, filter_size=(5, 5), W=ini)\n",
    "    loc_l5 = lasagne.layers.DenseLayer(\n",
    "        loc_l4, num_units=50, W=lasagne.init.HeUniform('relu'))\n",
    "    loc_out = lasagne.layers.DenseLayer(\n",
    "        loc_l5, num_units=6, b=b, W=lasagne.init.Constant(0.0), \n",
    "        nonlinearity=lasagne.nonlinearities.identity)\n",
    "    \n",
    "    # Transformer network\n",
    "    l_trans1 = TransformerLayer(l_in, loc_out, downsample_factor=3.0)\n",
    "    print \"Transformer network output shape: \", l_trans1.output_shape\n",
    "    \n",
    "    # Classification network\n",
    "    class_l1 = conv(\n",
    "        l_trans1,\n",
    "        num_filters=32,\n",
    "        filter_size=(3, 3),\n",
    "        nonlinearity=lasagne.nonlinearities.rectify,\n",
    "        W=ini,\n",
    "    )\n",
    "    class_l2 = pool(class_l1, pool_size=(2, 2))\n",
    "    class_l3 = conv(\n",
    "        class_l2,\n",
    "        num_filters=32,\n",
    "        filter_size=(3, 3),\n",
    "        nonlinearity=lasagne.nonlinearities.rectify,\n",
    "        W=ini,\n",
    "    )\n",
    "    class_l4 = pool(class_l3, pool_size=(2, 2))\n",
    "    class_l5 = lasagne.layers.DenseLayer(\n",
    "        class_l4,\n",
    "        num_units=256,\n",
    "        nonlinearity=lasagne.nonlinearities.rectify,\n",
    "        W=ini,\n",
    "    )\n",
    "\n",
    "    l_out = lasagne.layers.DenseLayer(\n",
    "        class_l5,\n",
    "        num_units=output_dim,\n",
    "        nonlinearity=lasagne.nonlinearities.softmax,\n",
    "        W=ini,\n",
    "    )\n",
    "\n",
    "    return l_out, l_trans1, loc_out\n",
    "\n",
    "model, l_transform, thetas = build_model(DIM, DIM, NUM_CLASSES)\n",
    "model_params = lasagne.layers.get_all_params(model, trainable=True)\n"
   ]
  },
  {
   "cell_type": "code",
   "execution_count": 8,
   "metadata": {
    "collapsed": false,
    "deletable": true,
    "editable": true
   },
   "outputs": [
    {
     "name": "stderr",
     "output_type": "stream",
     "text": [
      "/usr/local/lib/python2.7/dist-packages/lasagne/layers/conv.py:489: UserWarning: The `image_shape` keyword argument to `tensor.nnet.conv2d` is deprecated, it has been renamed to `input_shape`.\n",
      "  border_mode=border_mode)\n",
      "WARNING (theano.tensor.blas): We did not found a dynamic library into the library_dir of the library we use for blas. If you use ATLAS, make sure to compile it with dynamics library.\n"
     ]
    }
   ],
   "source": [
    "X = T.tensor4()\n",
    "y = T.ivector()\n",
    "\n",
    "# training output\n",
    "output_train = lasagne.layers.get_output(model, X, deterministic=False)\n",
    "\n",
    "# evaluation output. Also includes output of transform for plotting\n",
    "output_eval, transform_eval, thetas_tensor = lasagne.layers.get_output([model, l_transform, thetas], X, deterministic=True)\n",
    "\n",
    "sh_lr = theano.shared(lasagne.utils.floatX(LEARNING_RATE))\n",
    "cost = T.mean(T.nnet.categorical_crossentropy(output_train, y))\n",
    "cost_test = T.mean(T.nnet.categorical_crossentropy(output_eval, y))\n",
    "updates = lasagne.updates.adam(cost, model_params, learning_rate=sh_lr)\n",
    "\n",
    "train = theano.function([X, y], [cost, output_train], updates=updates)\n",
    "eval = theano.function([X, y], [output_eval, transform_eval, thetas_tensor, cost_test])\n"
   ]
  },
  {
   "cell_type": "code",
   "execution_count": 9,
   "metadata": {
    "collapsed": true,
    "deletable": true,
    "editable": true
   },
   "outputs": [],
   "source": [
    "def train_epoch(X, y):\n",
    "    num_samples = X.shape[0]\n",
    "    num_batches = int(np.ceil(num_samples / float(BATCH_SIZE)))\n",
    "    loss = []\n",
    "    correct = 0\n",
    "    for i in range(num_batches):\n",
    "        idx = range(i*BATCH_SIZE, np.minimum((i+1)*BATCH_SIZE, num_samples))\n",
    "        X_batch = X[idx]\n",
    "        y_batch = y[idx]\n",
    "        cost_batch, output_train = train(X_batch, y_batch)\n",
    "        loss += [cost_batch]\n",
    "        preds = np.argmax(output_train, axis=-1)\n",
    "        correct += np.sum(y_batch == preds)\n",
    "\n",
    "    return np.mean(loss), correct / float(num_samples)\n",
    "\n",
    "\n",
    "def eval_epoch(X, y):\n",
    "    loss = []\n",
    "    output_eval, transform_eval, actual_thetas, loss = eval(X, y)\n",
    "    preds = np.argmax(output_eval, axis=-1)\n",
    "    acc = np.mean(preds == y)\n",
    "    return np.mean(loss), acc, transform_eval, actual_thetas, preds, output_eval\n"
   ]
  },
  {
   "cell_type": "code",
   "execution_count": 10,
   "metadata": {
    "collapsed": false,
    "deletable": true,
    "editable": true
   },
   "outputs": [],
   "source": [
    "#EDITS SHOULD BE PERFORMED\n",
    "# BEFORE TRAINING, HOW IS THE ACCURACY LIKE?\n",
    "# y_test2 = np.array([1, 1, 1, 1, 4, 4, 4, 4, 7, 0, 7, 2, 2, 2, 0, 0, 0, 2, 7, 7, 3, 3, 3, 3, 6, 6, 5, 5, 5, 5, 8, 6, 8, 6, 8, 8, 9, 9, 9, 9], dtype=np.int32)\n",
    "# X_test2 = np.zeros((y_test2.shape[0], 1, 60, 60), dtype=np.float32)\n",
    "# for i in range(40):\n",
    "#     X_test2[i] = cv2.imread(\"/home/dl2/caner_grad/temp/translated_ones/\"+str(i)+ \".png\", cv2.IMREAD_GRAYSCALE)\n",
    "# for i in range(40):    \n",
    "#     X_test2[i] = (X_test2[i] - np.mean(X_test2[i]))/np.std(X_test2[i])\n",
    "# test_loss2, test_acc2, test_transform2, actual_thetas2, preds2, output_eval2 = eval_epoch(X_test2, y_test2)\n",
    "# print \"test loss {0}, test acc {1}\".format(test_loss2, test_acc2)"
   ]
  },
  {
   "cell_type": "code",
   "execution_count": 11,
   "metadata": {
    "collapsed": false,
    "deletable": true,
    "editable": true
   },
   "outputs": [],
   "source": [
    "# plt.figure(figsize=(7,28))\n",
    "# k=20\n",
    "# for i in range(k):\n",
    "#     plt.subplot(k,2,1+i*2)\n",
    "#     plt.imshow(X_test2[i].reshape(DIM, DIM), cmap='gray', interpolation='none')\n",
    "#     if i == 0:\n",
    "#         plt.title('Original 60x60', fontsize=20)\n",
    "#     plt.axis('off')\n",
    "#     plt.subplot(k,2,2+i*2)\n",
    "#     plt.imshow(test_transform2[i].reshape(DIM//3, DIM//3), cmap='gray', interpolation='none')\n",
    "#     if i == 0:\n",
    "#         plt.title('Transformed 20x20', fontsize=20)\n",
    "#     plt.axis('off')\n",
    "# plt.tight_layout()\n"
   ]
  },
  {
   "cell_type": "code",
   "execution_count": 12,
   "metadata": {
    "collapsed": false,
    "deletable": true,
    "editable": true
   },
   "outputs": [],
   "source": [
    "# SKIP IF ALREADY PRETRAINED\n",
    "# theano.config.exception_verbosity=\"high\"\n",
    "\n",
    "# valid_accs, train_accs = [], []\n",
    "# valid_losses, train_losses = [], []\n",
    "# test_accs = []\n",
    "# test_losses = []\n",
    "\n",
    "# try:\n",
    "#     for n in range(NUM_EPOCHS):\n",
    "#         train_loss, train_acc = train_epoch(data['X_train'], data['y_train'])\n",
    "#         val_loss, valid_acc, valid_trainsform, dummy, preds_valid, output_eval_valid  = eval_epoch(data['X_valid'], data['y_valid'])\n",
    "#         valid_accs += [valid_acc]\n",
    "#         train_accs += [train_acc]\n",
    "#         valid_losses += [val_loss]\n",
    "#         train_losses += [train_loss]\n",
    "        \n",
    "#         if n%10 == 0:\n",
    "#             np.savez('model'+str(n)+'.npz', *lasagne.layers.get_all_param_values(model))\n",
    "\n",
    "#         if (n+1) % 20 == 0:\n",
    "#             new_lr = sh_lr.get_value() * 0.7\n",
    "#             print \"New LR:\", new_lr\n",
    "#             sh_lr.set_value(lasagne.utils.floatX(new_lr))\n",
    "\n",
    "# #         print \"Epoch {0}: Train loss {1}, Train acc {2}, val acc {3}, test acc {4}\".format(\n",
    "# #                 n, train_loss, train_acc, valid_acc, test_acc) \n",
    "#         print \"Epoch {0}: Train loss {1}, Train acc {2}, val acc {3}\".format(\n",
    "#                 n, train_loss, train_acc, valid_acc)\n",
    "# #         print \"Epoch {0}: Train loss {1}, Train acc {2}\".format(\n",
    "# #                 n, train_loss, train_acc)\n",
    "# except KeyboardInterrupt:\n",
    "#     pass\n"
   ]
  },
  {
   "cell_type": "code",
   "execution_count": 13,
   "metadata": {
    "collapsed": false,
    "deletable": true,
    "editable": true
   },
   "outputs": [],
   "source": [
    "test_accs = []\n",
    "test_losses = []\n",
    "preds_train = []\n",
    "\n",
    "\n",
    "theano.config.exception_verbosity=\"high\"\n",
    "for i in range(11):\n",
    "    with np.load('model'+str(i*10)+\".npz\") as f:\n",
    "         param_values = [f['arr_%d' % i] for i in range(len(f.files))]\n",
    "    lasagne.layers.set_all_param_values(model, param_values)\n",
    "    test_loss, test_acc, test_transform, actual_thetas, preds, output_eval = eval_epoch(data['X_test'][:], data['y_test'][:])\n",
    "    test_accs += [test_acc]\n",
    "    test_losses += [test_loss]\n",
    "    preds_train += [np.argmax(output_eval, axis=-1)]\n",
    "\n"
   ]
  },
  {
   "cell_type": "code",
   "execution_count": 14,
   "metadata": {
    "collapsed": false,
    "deletable": true,
    "editable": true
   },
   "outputs": [
    {
     "name": "stdout",
     "output_type": "stream",
     "text": [
      "[0.28388506, 0.065730557, 0.046855446, 0.043364018, 0.036533009, 0.040264741, 0.037000485, 0.042317323, 0.039778382, 0.044257637, 0.044237062]\n",
      "[0.90980000000000005, 0.97907500000000003, 0.98582499999999995, 0.98745000000000005, 0.98904999999999998, 0.98919999999999997, 0.99077499999999996, 0.99009999999999998, 0.99152499999999999, 0.99099999999999999, 0.99134999999999995]\n"
     ]
    }
   ],
   "source": [
    "#TEST ACC & LOSS FOR MODELS \n",
    "print test_losses\n",
    "print test_accs"
   ]
  },
  {
   "cell_type": "code",
   "execution_count": 15,
   "metadata": {
    "collapsed": false,
    "deletable": true,
    "editable": true
   },
   "outputs": [
    {
     "name": "stdout",
     "output_type": "stream",
     "text": [
      "[0.28388506, 0.065730557, 0.046855446, 0.043364018, 0.036533009, 0.040264741, 0.037000485, 0.042317323, 0.039778382, 0.044257637, 0.044237062]\n",
      "[0.90980000000000005, 0.97907500000000003, 0.98582499999999995, 0.98745000000000005, 0.98904999999999998, 0.98919999999999997, 0.99077499999999996, 0.99009999999999998, 0.99152499999999999, 0.99099999999999999, 0.99134999999999995]\n"
     ]
    }
   ],
   "source": [
    "#VALID ACC & LOSS FOR MODELS\n",
    "print test_losses\n",
    "print test_accs"
   ]
  },
  {
   "cell_type": "code",
   "execution_count": 16,
   "metadata": {
    "collapsed": false,
    "deletable": true,
    "editable": true
   },
   "outputs": [
    {
     "ename": "NameError",
     "evalue": "name 'train_accs' is not defined",
     "output_type": "error",
     "traceback": [
      "\u001b[0;31m---------------------------------------------------------------------------\u001b[0m",
      "\u001b[0;31mNameError\u001b[0m                                 Traceback (most recent call last)",
      "\u001b[0;32m<ipython-input-16-22d4d093d6d9>\u001b[0m in \u001b[0;36m<module>\u001b[0;34m()\u001b[0m\n\u001b[1;32m      1\u001b[0m \u001b[0mplt\u001b[0m\u001b[0;34m.\u001b[0m\u001b[0mfigure\u001b[0m\u001b[0;34m(\u001b[0m\u001b[0mfigsize\u001b[0m\u001b[0;34m=\u001b[0m\u001b[0;34m(\u001b[0m\u001b[0;36m7\u001b[0m\u001b[0;34m,\u001b[0m\u001b[0;36m7\u001b[0m\u001b[0;34m)\u001b[0m\u001b[0;34m)\u001b[0m\u001b[0;34m\u001b[0m\u001b[0m\n\u001b[1;32m      2\u001b[0m \u001b[0mplt\u001b[0m\u001b[0;34m.\u001b[0m\u001b[0mtitle\u001b[0m\u001b[0;34m(\u001b[0m\u001b[0;34m'Accuracies'\u001b[0m\u001b[0;34m,\u001b[0m \u001b[0mfontsize\u001b[0m\u001b[0;34m=\u001b[0m\u001b[0;36m20\u001b[0m\u001b[0;34m)\u001b[0m\u001b[0;34m\u001b[0m\u001b[0m\n\u001b[0;32m----> 3\u001b[0;31m \u001b[0mplt\u001b[0m\u001b[0;34m.\u001b[0m\u001b[0mplot\u001b[0m\u001b[0;34m(\u001b[0m\u001b[0;36m1\u001b[0m\u001b[0;34m-\u001b[0m\u001b[0mnp\u001b[0m\u001b[0;34m.\u001b[0m\u001b[0marray\u001b[0m\u001b[0;34m(\u001b[0m\u001b[0mtrain_accs\u001b[0m\u001b[0;34m)\u001b[0m\u001b[0;34m,\u001b[0m \u001b[0mlabel\u001b[0m\u001b[0;34m=\u001b[0m\u001b[0;34m'Training Error'\u001b[0m\u001b[0;34m)\u001b[0m\u001b[0;34m\u001b[0m\u001b[0m\n\u001b[0m\u001b[1;32m      4\u001b[0m \u001b[0mplt\u001b[0m\u001b[0;34m.\u001b[0m\u001b[0mplot\u001b[0m\u001b[0;34m(\u001b[0m\u001b[0;36m1\u001b[0m\u001b[0;34m-\u001b[0m\u001b[0mnp\u001b[0m\u001b[0;34m.\u001b[0m\u001b[0marray\u001b[0m\u001b[0;34m(\u001b[0m\u001b[0mvalid_accs\u001b[0m\u001b[0;34m)\u001b[0m\u001b[0;34m,\u001b[0m \u001b[0mlabel\u001b[0m\u001b[0;34m=\u001b[0m\u001b[0;34m'Validation Error'\u001b[0m\u001b[0;34m)\u001b[0m\u001b[0;34m\u001b[0m\u001b[0m\n\u001b[1;32m      5\u001b[0m \u001b[0mplt\u001b[0m\u001b[0;34m.\u001b[0m\u001b[0mplot\u001b[0m\u001b[0;34m(\u001b[0m\u001b[0;36m1\u001b[0m\u001b[0;34m-\u001b[0m\u001b[0mnp\u001b[0m\u001b[0;34m.\u001b[0m\u001b[0marray\u001b[0m\u001b[0;34m(\u001b[0m\u001b[0mtest_accs\u001b[0m\u001b[0;34m)\u001b[0m\u001b[0;34m,\u001b[0m \u001b[0mlabel\u001b[0m\u001b[0;34m=\u001b[0m\u001b[0;34m'Testing Error'\u001b[0m\u001b[0;34m)\u001b[0m\u001b[0;34m\u001b[0m\u001b[0m\n",
      "\u001b[0;31mNameError\u001b[0m: name 'train_accs' is not defined"
     ]
    },
    {
     "data": {
      "image/png": "[encoded data removed]",
      "text/plain": [
       "<matplotlib.figure.Figure at 0x7f8541222a90>"
      ]
     },
     "metadata": {},
     "output_type": "display_data"
    }
   ],
   "source": [
    "plt.figure(figsize=(7,7))\n",
    "plt.title('Accuracies', fontsize=20)\n",
    "plt.plot(1-np.array(train_accs), label='Training Error')\n",
    "plt.plot(1-np.array(valid_accs), label='Validation Error')\n",
    "plt.plot(1-np.array(test_accs), label='Testing Error')\n",
    "plt.legend(fontsize=20)\n",
    "plt.xlabel('Epoch', fontsize=20)\n",
    "plt.ylabel('Error', fontsize=20)\n",
    "plt.show()\n",
    "\n",
    "plt.figure(figsize=(7,7))\n",
    "plt.plot(range(len(train_losses)), train_losses, label='Training Loss')\n",
    "plt.plot(range(len(valid_losses)), valid_losses, label='Validation Loss')\n",
    "plt.plot(range(len(test_losses)), test_losses, label='Testing Loss')\n",
    "plt.xlabel('Epoch', fontsize=20)\n",
    "plt.legend(fontsize=20)\n",
    "plt.title('Train Loss', fontsize=20)\n",
    "plt.show()\n"
   ]
  },
  {
   "cell_type": "code",
   "execution_count": null,
   "metadata": {
    "collapsed": false,
    "deletable": true,
    "editable": true
   },
   "outputs": [],
   "source": [
    "print data['X_train'][1].shape"
   ]
  },
  {
   "cell_type": "code",
   "execution_count": 18,
   "metadata": {
    "collapsed": false,
    "deletable": true,
    "editable": true
   },
   "outputs": [
    {
     "data": {
      "image/png": "[encoded data removed]",
      "text/plain": [
       "<matplotlib.figure.Figure at 0x7f853d3d91d0>"
      ]
     },
     "metadata": {},
     "output_type": "display_data"
    }
   ],
   "source": [
    "plt.figure(figsize=(7,14))\n",
    "k=7\n",
    "l = 23305\n",
    "for i in [l+j for j in range(k)]:\n",
    "    plt.subplot(k,2,1+(i-l)*2)\n",
    "    plt.imshow(data['X_test'][i].reshape(DIM, DIM), cmap='gray', interpolation='none')\n",
    "    if i == 0:\n",
    "        plt.title('Original 60x60', fontsize=20)\n",
    "    plt.axis('off')\n",
    "    plt.subplot(k,2,2+(i-l)*2)\n",
    "    plt.imshow(test_transform[i].reshape(DIM//3, DIM//3), cmap='gray', interpolation='none')\n",
    "    if i == 0:\n",
    "        plt.title('Transformed 20x20', fontsize=20)\n",
    "    plt.axis('off')\n",
    "plt.tight_layout()\n"
   ]
  },
  {
   "cell_type": "code",
   "execution_count": null,
   "metadata": {
    "collapsed": false,
    "deletable": true,
    "editable": true
   },
   "outputs": [],
   "source": [
    "plt.figure(figsize=(7,14))\n",
    "k=1\n",
    "l = 4000\n",
    "for i in [l+j for j in range(k)]:\n",
    "    plt.subplot(k,2,1+(i-l)*2)\n",
    "    plt.imshow(data['X_test'][i].reshape(DIM, DIM), cmap='gray', interpolation='none')\n",
    "    if i == 0:\n",
    "        plt.title('Original 60x60', fontsize=20)\n",
    "    plt.axis('off')\n",
    "    plt.subplot(k,2,2+(i-l)*2)\n",
    "    plt.imshow(test_transform[i].reshape(DIM//3, DIM//3), cmap='gray', interpolation='none')\n",
    "    if i == 0:\n",
    "        plt.title('Transformed 20x20', fontsize=20)\n",
    "    plt.axis('off')\n",
    "plt.tight_layout()\n"
   ]
  },
  {
   "cell_type": "code",
   "execution_count": null,
   "metadata": {
    "collapsed": false,
    "deletable": true,
    "editable": true
   },
   "outputs": [],
   "source": [
    "r_theta = (lambda theta: np.array([[1, 0, 0 ], [0, np.cos(theta), -np.sin(theta)], [0, np.sin(theta), np.cos(theta)]]))\n",
    "r_fi = (lambda fi: np.array([[np.cos(fi), 0, np.sin(fi)], [0, 1, 0], [-np.sin(fi), 0, np.cos(fi)]]))\n",
    "r_phi = (lambda phi: np.array([[np.cos(phi), -np.sin(phi), 0], [np.sin(phi), np.cos(phi), 0], [0, 0, 1]]))\n",
    "\n",
    "#print r_phi(50)*r_fi(45)*r_theta(15)\n",
    "klm = lambda theta, fi, phi:np.array([[1, 0, 0 ], [0, np.cos(theta), -np.sin(theta)], [0, np.sin(theta), np.cos(theta)]])*np.array([[np.cos(fi), 0, np.sin(fi)], [0, 1, 0], [-np.sin(fi), 0, np.cos(fi)]])*np.array([[np.cos(phi), -np.sin(phi), 0], [np.sin(phi), np.cos(phi), 0], [0, 0, 1]])"
   ]
  },
  {
   "cell_type": "code",
   "execution_count": 19,
   "metadata": {
    "collapsed": false,
    "deletable": true,
    "editable": true
   },
   "outputs": [
    {
     "name": "stdout",
     "output_type": "stream",
     "text": [
      "[[ 0.49938843  0.03984484 -0.02736071 -0.03870711  0.51125753 -0.12223954]\n",
      " [ 0.49989045  0.05799052 -0.43721354 -0.04163874  0.52173883  0.01299104]\n",
      " [ 0.5099526   0.02225971 -0.21570221 -0.04180825  0.52054566  0.48116991]\n",
      " [ 0.49754325  0.05029367  0.23363301 -0.03278181  0.5204742   0.45772535]\n",
      " [ 0.49813211  0.03590612  0.08137561 -0.04095165  0.508578   -0.20667525]\n",
      " [ 0.49820182  0.03730179  0.16490352 -0.03969729  0.51121455 -0.04603734]\n",
      " [ 0.50391871  0.04405279  0.47785372 -0.03656111  0.50491601 -0.06917754]]\n",
      "(array([ 0.70493835,  0.06416436, -0.23522969, -0.05072363,  0.72957361,\n",
      "       -0.47376677], dtype=float32), array([ 0.70316494,  0.05782162,  0.69961476, -0.053665  ,  0.72574985,\n",
      "       -0.80101627], dtype=float32), array([ 141.03851318,  162.14451599, -261.75915527,  126.48654175,\n",
      "        142.979599  , -235.76902771], dtype=float32), array([-141.688797  , -182.95178223,  249.62016296, -142.86909485,\n",
      "       -143.67079163,   11.29944229], dtype=float32), array([ 0.5099526 ,  0.02225971, -0.21570221, -0.04180825,  0.52054566,\n",
      "        0.48116991], dtype=float32), array([ 0.49820182,  0.03730179,  0.16490352, -0.03969729,  0.51121455,\n",
      "       -0.04603734], dtype=float32))\n"
     ]
    }
   ],
   "source": [
    "def matrix_to_params(inputs):\n",
    "    translation_x, translation_y = inputs[2], inputs[5]\n",
    "    temp_matrix = [[inputs[0], inputs[1]], [inputs[3], inputs[4]]]\n",
    "    angle = np.arctan(temp_matrix[1][0]/temp_matrix[0][0])\n",
    "    angle2 = np.arctan(-temp_matrix[0][1]/temp_matrix[1][1])\n",
    "    scale_x = inputs[0]/np.cos(angle)\n",
    "    scale_y = inputs[4]/np.cos(angle)\n",
    "    return scale_x, scale_y, angle*180, angle2*180, translation_x, translation_y\n",
    "print actual_thetas[l:l+k] \n",
    "print matrix_to_params(actual_thetas[l:l+k])"
   ]
  },
  {
   "cell_type": "code",
   "execution_count": 26,
   "metadata": {
    "collapsed": false
   },
   "outputs": [
    {
     "name": "stdout",
     "output_type": "stream",
     "text": [
      "-0.0824711\n"
     ]
    }
   ],
   "source": [
    "print actual_thetas[:,3].min()\n"
   ]
  },
  {
   "cell_type": "code",
   "execution_count": null,
   "metadata": {
    "collapsed": false,
    "deletable": true,
    "editable": true
   },
   "outputs": [],
   "source": [
    "y_test3 = np.array([1, 1, 1, 1, 4, 4, 4, 4, 7, 0, 7, 2, 2, 2, 0, 0, 0, 2, 7, 7, 3, 3, 3, 3, 6, 6, 5, 5, 5, 5, 8, 6, 8, 6, 8, 8, 9, 9, 9, 9], dtype=np.int32)\n",
    "X_test3 = np.zeros((y_test3.shape[0], 1, 60, 60), dtype=np.float32)\n",
    "print y_test3.shape\n",
    "for i in range(40):\n",
    "    X_test3[i] = (cv2.imread(\"/home/dl2/caner_grad/temp/translated_ones/\"+str(i)+ \".png\", cv2.IMREAD_GRAYSCALE))\n",
    "mean_target = np.mean(data[\"X_train\"], axis=0)\n",
    "std_target = np.std(data[\"X_train\"], axis=0)\n",
    "mean_test = (np.mean(X_test3, axis=0))\n",
    "std_test = (np.std(X_test3, axis=0))+1e-1/5\n",
    "\n",
    "X_test3_new = (X_test3 - mean_test + mean_target)/std_test*std_target\n",
    "print X_test3_new[0]\n",
    "# print(np.std(X_test3, axis=0))\n",
    "\n",
    "\n",
    "test_loss3, test_acc3, test_transform3, actual_thetas3, preds3, output_eval3 = eval_epoch(X_test3_new, y_test3)\n",
    "print \"test loss {0}, test acc {1}\".format(test_loss3, test_acc3)\n",
    "print(np.mean(X_test3_new[0]), np.std(X_test3_new[0]))\n",
    "print(np.mean(data['X_test']), np.std(data['X_test']))\n"
   ]
  },
  {
   "cell_type": "code",
   "execution_count": null,
   "metadata": {
    "collapsed": false,
    "deletable": true,
    "editable": true
   },
   "outputs": [],
   "source": [
    "M = cv2.getRotationMatrix2D((30, 30),90,1)\n",
    "\n",
    "k=7\n",
    "\n",
    "y_test3 = data[\"y_test\"][:k].copy()\n",
    "X_test3 = data[\"X_test\"][:k].copy()\n",
    "print(X_test3.shape)\n",
    "\n",
    "for i in range(k):\n",
    "    a = cv2.warpAffine(np.squeeze(X_test3[i]),M,(60,60))\n",
    "    X_test3[i] = np.expand_dims(a, 0)\n",
    "    \n",
    "\n",
    "test_loss3, test_acc3, test_transform3, actual_thetas3, preds_rot, output_eval3 = eval_epoch(X_test3, y_test3)\n",
    "print \"test loss {0}, test acc {1}\".format(test_loss3, test_acc3)\n",
    "print(np.mean(X_test3[0]), np.std(X_test3[0]))\n",
    "print(np.mean(data['X_test']), np.std(data['X_test']))\n",
    "print preds_rot\n",
    "print actual_thetas3[:8] \n",
    "print output_eval3"
   ]
  },
  {
   "cell_type": "code",
   "execution_count": null,
   "metadata": {
    "collapsed": false,
    "deletable": true,
    "editable": true
   },
   "outputs": [],
   "source": [
    "plt.figure(figsize=(7,14))\n",
    "k=7\n",
    "for i in range(k):\n",
    "    \n",
    "    plt.subplot(k,2,1+i*2)\n",
    "    plt.imshow(X_test3[i].reshape(DIM, DIM), cmap='gray', interpolation='none')\n",
    "    if i == 0:\n",
    "        plt.title('Original 60x60', fontsize=20)\n",
    "    plt.axis('off')\n",
    "    plt.subplot(k,2,2+i*2)\n",
    "    plt.imshow(test_transform3[i].reshape(DIM//3, DIM//3), cmap='gray', interpolation='none')\n",
    "    if i == 0:\n",
    "        plt.title('Transformed 20x20', fontsize=20)\n",
    "    plt.axis('off')\n",
    "plt.tight_layout()\n"
   ]
  },
  {
   "cell_type": "code",
   "execution_count": 27,
   "metadata": {
    "collapsed": false,
    "deletable": true,
    "editable": true
   },
   "outputs": [],
   "source": [
    "from sklearn import svm, datasets\n",
    "from sklearn.model_selection import train_test_split\n",
    "from sklearn.metrics import confusion_matrix\n",
    "\n",
    "import itertools\n",
    "\n",
    "def plot_confusion_matrix(cm, classes,\n",
    "                          normalize=False,\n",
    "                          title='Confusion matrix',\n",
    "                          cmap=plt.cm.Blues):\n",
    "    \"\"\"\n",
    "    This function prints and plots the confusion matrix.\n",
    "    Normalization can be applied by setting `normalize=True`.\n",
    "    \"\"\"\n",
    "    plt.imshow(cm, interpolation='nearest', cmap=cmap              )\n",
    "    plt.title(title)\n",
    "    plt.colorbar()\n",
    "    tick_marks = np.arange(len(classes))\n",
    "    plt.xticks(tick_marks, classes, rotation=60)\n",
    "    plt.yticks(tick_marks, classes)\n",
    "\n",
    "    if normalize:\n",
    "        cm = cm.astype('float16') / cm.sum(axis=1)[:, np.newaxis]\n",
    "        print(\"Normalized confusion matrix\")\n",
    "    else:\n",
    "        print('Confusion matrix, without normalization')\n",
    "\n",
    "    print(cm)\n",
    "\n",
    "    thresh = cm.max() / 2.\n",
    "    for i, j in itertools.product(range(cm.shape[0]), range(cm.shape[1])):\n",
    "        plt.text(j, i, np.around(cm[i, j],decimals = 3),\n",
    "                 horizontalalignment=\"center\",\n",
    "                 color=\"white\" if cm[i, j] > thresh else \"black\")\n",
    "\n",
    "    plt.tight_layout()\n",
    "    plt.ylabel('True label')\n",
    "    plt.xlabel('Predicted label')"
   ]
  },
  {
   "cell_type": "code",
   "execution_count": 35,
   "metadata": {
    "collapsed": false,
    "deletable": true,
    "editable": true
   },
   "outputs": [
    {
     "name": "stdout",
     "output_type": "stream",
     "text": [
      "[3]\n",
      "Confusion matrix, without normalization\n",
      "[[1]]\n"
     ]
    },
    {
     "data": {
      "image/png": "[encoded data removed]",
      "text/plain": [
       "<matplotlib.figure.Figure at 0x7f8538895490>"
      ]
     },
     "metadata": {},
     "output_type": "display_data"
    }
   ],
   "source": [
    "plt.figure(figsize = (7,7))\n",
    "print np.argmax(output_eval, axis=1)[23364:23365]\n",
    "y_true = data['y_test'][23364:23365]\n",
    "y_pred = np.argmax(output_eval, axis=1)[23364:23365]\n",
    "\n",
    "cnf_matrix = confusion_matrix(y_true, y_pred)\n",
    "\n",
    "class_names = [\"0\", \"1\", \"2\", \"3\", \"4\", \"5\", \"6\", \"7\", \"8\", \"9\"]\n",
    "plot_confusion_matrix(cnf_matrix, classes=class_names,\n",
    "                      title='Confusion matrix, without normalization')\n",
    "\n"
   ]
  },
  {
   "cell_type": "code",
   "execution_count": 34,
   "metadata": {
    "collapsed": false,
    "deletable": true,
    "editable": true
   },
   "outputs": [
    {
     "name": "stdout",
     "output_type": "stream",
     "text": [
      "Normalized confusion matrix\n",
      "[[ 1.]]\n"
     ]
    },
    {
     "data": {
      "image/png": "[encoded data removed]",
      "text/plain": [
       "<matplotlib.figure.Figure at 0x7f8538de8410>"
      ]
     },
     "metadata": {},
     "output_type": "display_data"
    }
   ],
   "source": [
    "plt.figure(figsize = (7,7))\n",
    "\n",
    "plot_confusion_matrix(cnf_matrix, classes=class_names, normalize=True,\n",
    "                      title='Normalized confusion matrix')"
   ]
  },
  {
   "cell_type": "code",
   "execution_count": null,
   "metadata": {
    "collapsed": false,
    "deletable": true,
    "editable": true
   },
   "outputs": [],
   "source": []
  },
  {
   "cell_type": "code",
   "execution_count": null,
   "metadata": {
    "collapsed": true,
    "deletable": true,
    "editable": true
   },
   "outputs": [],
   "source": []
  }
 ],
 "metadata": {
  "kernelspec": {
   "display_name": "Python 2",
   "language": "python",
   "name": "python2"
  },
  "language_info": {
   "codemirror_mode": {
    "name": "ipython",
    "version": 2
   },
   "file_extension": ".py",
   "mimetype": "text/x-python",
   "name": "python",
   "nbconvert_exporter": "python",
   "pygments_lexer": "ipython2",
   "version": "2.7.12"
  }
 },
 "nbformat": 4,
 "nbformat_minor": 1
}
