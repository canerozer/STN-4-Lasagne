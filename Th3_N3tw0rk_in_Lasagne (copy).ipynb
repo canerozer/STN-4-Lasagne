{
 "cells": [
  {
   "cell_type": "code",
   "execution_count": 1,
   "metadata": {
    "collapsed": false,
    "deletable": true,
    "editable": true
   },
   "outputs": [
    {
     "name": "stderr",
     "output_type": "stream",
     "text": [
      "Using gpu device 0: GeForce GTX 1080 (CNMeM is disabled, cuDNN 5110)\n",
      "/usr/local/lib/python2.7/dist-packages/theano/sandbox/cuda/__init__.py:600: UserWarning: Your cuDNN version is more recent than the one Theano officially supports. If you see any problems, try updating Theano or downgrading cuDNN to version 5.\n",
      "  warnings.warn(warn)\n",
      "/usr/local/lib/python2.7/dist-packages/theano/tensor/signal/downsample.py:6: UserWarning: downsample module has been moved to the theano.tensor.signal.pool module.\n",
      "  \"downsample module has been moved to the theano.tensor.signal.pool module.\")\n"
     ]
    }
   ],
   "source": [
    "%matplotlib inline\n",
    "import os\n",
    "os.environ['THEANO_FLAGS']='device=gpu0'\n",
    "\n",
    "import matplotlib\n",
    "import numpy as np\n",
    "np.random.seed(123)\n",
    "import matplotlib.pyplot as plt\n",
    "import lasagne\n",
    "import theano\n",
    "import theano.tensor as T\n",
    "conv = lasagne.layers.Conv2DLayer\n",
    "pool = lasagne.layers.MaxPool2DLayer\n",
    "\n",
    "from lasagne.utils import as_tuple, floatX\n",
    "from lasagne.random import get_rng\n",
    "import cv2\n",
    "\n",
    "NUM_EPOCHS = 101\n",
    "BATCH_SIZE = 256\n",
    "LEARNING_RATE = 0.001\n",
    "DIM = 60\n",
    "NUM_CLASSES = 10\n",
    "mnist_cluttered = \"mnist_cluttered_60x60_6distortions.npz\"\n",
    "#INPUT FILE DEGISTIRILECEK"
   ]
  },
  {
   "cell_type": "code",
   "execution_count": 2,
   "metadata": {
    "collapsed": false,
    "deletable": true,
    "editable": true
   },
   "outputs": [],
   "source": [
    "class TransformerLayer(lasagne.layers.MergeLayer):\n",
    "    \"\"\"\n",
    "    Spatial transformer layer\n",
    "    The layer applies an affine transformation on the input. The affine\n",
    "    transformation is parameterized with six learned parameters [1]_.\n",
    "    The output is interpolated with a bilinear transformation.\n",
    "    Parameters\n",
    "    ----------\n",
    "    incoming : a :class:`Layer` instance or a tuple\n",
    "        The layer feeding into this layer, or the expected input shape. The\n",
    "        output of this layer should be a 4D tensor, with shape\n",
    "        ``(batch_size, num_input_channels, input_rows, input_columns)``.\n",
    "    localization_network : a :class:`Layer` instance\n",
    "        The network that calculates the parameters of the affine\n",
    "        transformation. See the example for how to initialize to the identity\n",
    "        transform.\n",
    "    downsample_factor : float or iterable of float\n",
    "        A float or a 2-element tuple specifying the downsample factor for the\n",
    "        output image (in both spatial dimensions). A value of 1 will keep the\n",
    "        original size of the input. Values larger than 1 will downsample the\n",
    "        input. Values below 1 will upsample the input.\n",
    "    References\n",
    "    ----------\n",
    "    .. [1]  Max Jaderberg, Karen Simonyan, Andrew Zisserman,\n",
    "            Koray Kavukcuoglu (2015):\n",
    "            Spatial Transformer Networks. NIPS 2015,\n",
    "            http://papers.nips.cc/paper/5854-spatial-transformer-networks.pdf\n",
    "    Examples\n",
    "    --------\n",
    "    Here we set up the layer to initially do the identity transform, similarly\n",
    "    to [1]_. Note that you will want to use a localization with linear output.\n",
    "    If the output from the localization networks is [t1, t2, t3, t4, t5, t6]\n",
    "    then t1 and t5 determines zoom, t2 and t4 determines skewness, and t3 and\n",
    "    t6 move the center position.\n",
    "    >>> import numpy as np\n",
    "    >>> import lasagne\n",
    "    >>> b = np.zeros((2, 3), dtype='float32')\n",
    "    >>> b[0, 0] = 1\n",
    "    >>> b[1, 1] = 1\n",
    "    >>> b = b.flatten()  # identity transform\n",
    "    >>> W = lasagne.init.Constant(0.0)\n",
    "    >>> l_in = lasagne.layers.InputLayer((None, 3, 28, 28))\n",
    "    >>> l_loc = lasagne.layers.DenseLayer(l_in, num_units=6, W=W, b=b,\n",
    "    ... nonlinearity=None)\n",
    "    >>> l_trans = lasagne.layers.TransformerLayer(l_in, l_loc)\n",
    "    \"\"\"\n",
    "    def __init__(self, incoming, localization_network, downsample_factor=1,\n",
    "                 **kwargs):\n",
    "        super(TransformerLayer, self).__init__(\n",
    "            [incoming, localization_network], **kwargs)\n",
    "        self.downsample_factor = as_tuple(downsample_factor, 2)\n",
    "\n",
    "        input_shp, loc_shp = self.input_shapes\n",
    "\n",
    "        if loc_shp[-1] != 6 or len(loc_shp) != 2:\n",
    "            raise ValueError(\"The localization network must have \"\n",
    "                             \"output shape: (batch_size, 6)\")\n",
    "        if len(input_shp) != 4:\n",
    "            raise ValueError(\"The input network must have a 4-dimensional \"\n",
    "                             \"output shape: (batch_size, num_input_channels, \"\n",
    "                             \"input_rows, input_columns)\")\n",
    "\n",
    "    def get_output_shape_for(self, input_shapes):\n",
    "        shape = input_shapes[0]\n",
    "        factors = self.downsample_factor\n",
    "        return (shape[:2] + tuple(None if s is None else int(s // f)\n",
    "                                  for s, f in zip(shape[2:], factors)))\n",
    "\n",
    "    def get_output_for(self, inputs, **kwargs):\n",
    "        # see eq. (1) and sec 3.1 in [1]\n",
    "        input, theta = inputs\n",
    "        self.x, self.y = _transform_affine(theta, input, self.downsample_factor)\n",
    "        return self.x\n",
    "    \n",
    "def _meshgrid(height, width):\n",
    "    # This function is the grid generator from eq. (1) in reference [1].\n",
    "    # It is equivalent to the following numpy code:\n",
    "    #  x_t, y_t = np.meshgrid(np.linspace(-1, 1, width),\n",
    "    #                         np.linspace(-1, 1, height))\n",
    "    #  ones = np.ones(np.prod(x_t.shape))\n",
    "    #  grid = np.vstack([x_t.flatten(), y_t.flatten(), ones])\n",
    "    # It is implemented in Theano instead to support symbolic grid sizes.\n",
    "    # Note: If the image size is known at layer construction time, we could\n",
    "    # compute the meshgrid offline in numpy instead of doing it dynamically\n",
    "    # in Theano. However, it hardly affected performance when we tried.\n",
    "    x_t = T.dot(T.ones((height, 1)),\n",
    "                _linspace(-1.0, 1.0, width).dimshuffle('x', 0))\n",
    "    y_t = T.dot(_linspace(-1.0, 1.0, height).dimshuffle(0, 'x'),\n",
    "                T.ones((1, width)))\n",
    "\n",
    "    x_t_flat = x_t.reshape((1, -1))\n",
    "    y_t_flat = y_t.reshape((1, -1))\n",
    "    ones = T.ones_like(x_t_flat)\n",
    "    grid = T.concatenate([x_t_flat, y_t_flat, ones], axis=0)\n",
    "    return grid\n",
    "    \n",
    "def _transform_affine(theta, input, downsample_factor):\n",
    "    num_batch, num_channels, height, width = input.shape\n",
    "    theta = T.reshape(theta, (-1, 2, 3))\n",
    "    \n",
    "    # grid of (x_t, y_t, 1), eq (1) in ref [1]\n",
    "    out_height = T.cast(height // downsample_factor[0], 'int64')\n",
    "    out_width = T.cast(width // downsample_factor[1], 'int64')\n",
    "    grid = _meshgrid(out_height, out_width)\n",
    "\n",
    "    # Transform A x (x_t, y_t, 1)^T -> (x_s, y_s)\n",
    "    T_g = T.dot(theta, grid)\n",
    "    x_s = T_g[:, 0]\n",
    "    y_s = T_g[:, 1]\n",
    "    x_s_flat = x_s.flatten()\n",
    "    y_s_flat = y_s.flatten()\n",
    "    \n",
    "    #BEGINNING OF EDITED SECTION\n",
    "\n",
    "#     print theta.dim\n",
    "#     print x_s_flat.ndim\n",
    "#     print y_s_flat.ndim\n",
    "    \n",
    "#     x_s_flat = x_s_flat - theta[2]\n",
    "#     y_s_flat = y_s_flat - theta[5]\n",
    "    \n",
    "#     THETA = np.array([theta[:,0], theta[:,1]] [theta[:,3], theta[:,4]])\n",
    "#     x_s_flat, y_s_flat = numpy.linalg.inv(THETA)*np.array(x_s_flat, y_s_flat)\n",
    "    #END OF EDITED SECTION\n",
    "\n",
    "    # dimshuffle input to  (bs, height, width, channels)\n",
    "    input_dim = input.dimshuffle(0, 2, 3, 1)\n",
    "    input_transformed = _interpolate(\n",
    "        input_dim, x_s_flat, y_s_flat,\n",
    "        out_height, out_width)\n",
    "\n",
    "    output = T.reshape(\n",
    "        input_transformed, (num_batch, out_height, out_width, num_channels))\n",
    "    output = output.dimshuffle(0, 3, 1, 2)  # dimshuffle to conv format\n",
    "    T_g = T.reshape(input_transformed, (num_batch, out_height, out_width, num_channels))\n",
    "    return output, T_g\n",
    "#OUTPUT: T_g and grid is also included.\n",
    "\n",
    "def _linspace(start, stop, num):\n",
    "    # Theano linspace. Behaves similar to np.linspace\n",
    "    start = T.cast(start, theano.config.floatX)\n",
    "    stop = T.cast(stop, theano.config.floatX)\n",
    "    num = T.cast(num, theano.config.floatX)\n",
    "    step = (stop-start)/(num-1)\n",
    "    return T.arange(num, dtype=theano.config.floatX)*step+start\n",
    "\n",
    "def _interpolate(im, x, y, out_height, out_width):\n",
    "    # *_f are floats\n",
    "    num_batch, height, width, channels = im.shape\n",
    "    height_f = T.cast(height, theano.config.floatX)\n",
    "    width_f = T.cast(width, theano.config.floatX)\n",
    "\n",
    "    # clip coordinates to [-1, 1]\n",
    "    x = T.clip(x, -1, 1)\n",
    "    y = T.clip(y, -1, 1)\n",
    "\n",
    "    # scale coordinates from [-1, 1] to [0, width/height - 1]\n",
    "    x = (x + 1) / 2 * (width_f - 1)\n",
    "    y = (y + 1) / 2 * (height_f - 1)\n",
    "\n",
    "    # obtain indices of the 2x2 pixel neighborhood surrounding the coordinates;\n",
    "    # we need those in floatX for interpolation and in int64 for indexing. for\n",
    "    # indexing, we need to take care they do not extend past the image.\n",
    "    x0_f = T.floor(x)\n",
    "    y0_f = T.floor(y)\n",
    "    x1_f = x0_f + 1\n",
    "    y1_f = y0_f + 1\n",
    "    x0 = T.cast(x0_f, 'int64')\n",
    "    y0 = T.cast(y0_f, 'int64')\n",
    "    x1 = T.cast(T.minimum(x1_f, width_f - 1), 'int64')\n",
    "    y1 = T.cast(T.minimum(y1_f, height_f - 1), 'int64')\n",
    "\n",
    "    # The input is [num_batch, height, width, channels]. We do the lookup in\n",
    "    # the flattened input, i.e [num_batch*height*width, channels]. We need\n",
    "    # to offset all indices to match the flat version\n",
    "    dim2 = width\n",
    "    dim1 = width*height\n",
    "    base = T.repeat(\n",
    "        T.arange(num_batch, dtype='int64')*dim1, out_height*out_width)\n",
    "    base_y0 = base + y0*dim2\n",
    "    base_y1 = base + y1*dim2\n",
    "    idx_a = base_y0 + x0\n",
    "    idx_b = base_y1 + x0\n",
    "    idx_c = base_y0 + x1\n",
    "    idx_d = base_y1 + x1\n",
    "\n",
    "    # use indices to lookup pixels for all samples\n",
    "    im_flat = im.reshape((-1, channels))\n",
    "    Ia = im_flat[idx_a]\n",
    "    Ib = im_flat[idx_b]\n",
    "    Ic = im_flat[idx_c]\n",
    "    Id = im_flat[idx_d]\n",
    "\n",
    "    # calculate interpolated values\n",
    "    wa = ((x1_f-x) * (y1_f-y)).dimshuffle(0, 'x')\n",
    "    wb = ((x1_f-x) * (y-y0_f)).dimshuffle(0, 'x')\n",
    "    wc = ((x-x0_f) * (y1_f-y)).dimshuffle(0, 'x')\n",
    "    wd = ((x-x0_f) * (y-y0_f)).dimshuffle(0, 'x')\n",
    "    output = T.sum([wa*Ia, wb*Ib, wc*Ic, wd*Id], axis=0)\n",
    "    return output"
   ]
  },
  {
   "cell_type": "code",
   "execution_count": 3,
   "metadata": {
    "collapsed": false,
    "deletable": true,
    "editable": true
   },
   "outputs": [
    {
     "name": "stdout",
     "output_type": "stream",
     "text": [
      "<theano.compile.function_module.Function object at 0x7f9f3d2a1bd0>\n"
     ]
    }
   ],
   "source": [
    "import theano\n",
    "import theano.tensor\n",
    "\n",
    "x = (_meshgrid(20, 20).shape)\n",
    "\n",
    "# concrete_x = np.array([[1, 2, 3], [4, 5, 6]], dtype=np.int32)\n",
    "\n",
    "# x = theano.tensor.imatrix()\n",
    "# print x.shape.eval({x: concrete_x})\n",
    "print theano.function(inputs=[], outputs=x.shape)\n",
    "# print concrete_x.shape"
   ]
  },
  {
   "cell_type": "code",
   "execution_count": 4,
   "metadata": {
    "collapsed": false,
    "deletable": true,
    "editable": true
   },
   "outputs": [
    {
     "name": "stdout",
     "output_type": "stream",
     "text": [
      "Train samples: (150000, 1, 60, 60)\n",
      "Validation samples: (30000, 1, 60, 60)\n",
      "Test samples: (30000, 1, 60, 60)\n"
     ]
    }
   ],
   "source": [
    "import time\n",
    "# PARAMETERS\n",
    "t_start = time.time()\n",
    "test_dir = \"/home/dontgetdown/Documents/caner_grad/MNIST_IMAGES/10_45_90_derece/10k_10k_test\"\n",
    "train_dir = \"/home/dontgetdown/Documents/caner_grad/MNIST_IMAGES/10_45_90_derece/50k_50k_train\"\n",
    "out_file = \"mnist_cluttered_60x60_45_90degree_rotations.npz\"\n",
    "train_k = 5\n",
    "valid_k = 1\n",
    "n_classes = 10\n",
    "DIM = 60\n",
    "\n",
    "#COMMENTING STARTS IF THE FILE ALREADY EXISTS\n",
    "\n",
    "# test_file = open(test_dir, \"r\")\n",
    "# train_file = open(train_dir, \"r\")\n",
    "\n",
    "# test_file_lines = test_file.readlines()\n",
    "# test_images_loc = []\n",
    "# test_classes_pre = []\n",
    "# test_images_loc.append([test_file_lines[i].split(\" \")[0] for i in range(len(test_file_lines))])\n",
    "# test_classes_pre.append([test_file_lines[i].split(\" \")[1] for i in range(len(test_file_lines))])\n",
    "\n",
    "# trainandvalid_file_lines = train_file.readlines()\n",
    "# tv_size = len(trainandvalid_file_lines) \n",
    "# test_size = len(test_file_lines)\n",
    "\n",
    "# test_file.close()\n",
    "# train_file.close()\n",
    "\n",
    "# trainandvalid_images_loc = []\n",
    "# trainandvalid_classes_pre = []\n",
    "# trainandvalid_images_loc.append([trainandvalid_file_lines[i].split(\" \")[0] for i in range(tv_size)])\n",
    "# trainandvalid_classes_pre.append([trainandvalid_file_lines[i].split(\" \")[1] for i in range(tv_size)])\n",
    "\n",
    "# permuted_indexes = np.random.permutation(np.arange(len(trainandvalid_file_lines)))\n",
    "# train_indexes = permuted_indexes[:tv_size*train_k/(train_k+valid_k)]\n",
    "# valid_indexes = permuted_indexes[tv_size*train_k/(train_k+valid_k):tv_size]\n",
    "    \n",
    "# valid_classes_list = []\n",
    "# for i in xrange(tv_size*valid_k/(train_k+valid_k)):\n",
    "#     valid_classes_list.append(trainandvalid_classes_pre[0][valid_indexes[i]])\n",
    "\n",
    "# train_classes_list = []\n",
    "# for i in xrange(tv_size*train_k/(train_k+valid_k)):\n",
    "#     train_classes_list.append(trainandvalid_classes_pre[0][train_indexes[i]])\n",
    "    \n",
    "# test_classes = np.zeros((test_size, 10), dtype=np.int64)\n",
    "# for i in xrange(test_size):\n",
    "#     for j in range(n_classes):\n",
    "#         if int(test_classes_pre[0][i])==int(j):\n",
    "#             test_classes[i][j] = 1\n",
    "             \n",
    "# train_classes = np.zeros((tv_size*train_k/(valid_k+train_k), 10), dtype=np.int64)\n",
    "# for i in xrange(tv_size*train_k/(train_k+valid_k)):\n",
    "#     for j in xrange(n_classes):\n",
    "#         if(int(j)==int(train_classes_list[i])):\n",
    "#             train_classes[i][j] = 1 \n",
    "            \n",
    "# valid_classes = np.zeros((tv_size*valid_k/(valid_k+train_k), 10), dtype=np.int64)\n",
    "# for i in xrange(tv_size*valid_k/(train_k+valid_k)):\n",
    "#     for j in xrange(n_classes):\n",
    "#         if(int(j)==int(valid_classes_list[i])):\n",
    "#             valid_classes[i][j] = 1 \n",
    "\n",
    "# t_cl_end = time.time()\n",
    "# print t_cl_end - t_start\n",
    "\n",
    "# test_images = np.zeros((test_size, 1, DIM, DIM), dtype=np.float32)\n",
    "# train_images = np.zeros((tv_size*train_k/(valid_k+train_k), 1, DIM, DIM), dtype=np.float32)\n",
    "# valid_images = np.zeros((tv_size*valid_k/(valid_k+train_k), 1, DIM, DIM), dtype=np.float32)\n",
    "\n",
    "# for i in xrange(test_images.shape[0]):\n",
    "#     test_images[i] = cv2.imread(test_images_loc[0][i], cv2.IMREAD_GRAYSCALE)\n",
    "\n",
    "# for i in xrange(train_images.shape[0]):\n",
    "#     train_images[i] = cv2.imread(trainandvalid_images_loc[0][train_indexes[i]], cv2.IMREAD_GRAYSCALE)\n",
    "    \n",
    "# for i in xrange(valid_images.shape[0]):\n",
    "#     valid_images[i] = cv2.imread(trainandvalid_images_loc[0][valid_indexes[i]], cv2.IMREAD_GRAYSCALE)\n",
    "\n",
    "# valid_images[:] = (valid_images - 128)/(128+0.0000001)\n",
    "# test_images[:] = (test_images - 128)/(128+0.0000001)\n",
    "# train_images[:] = (train_images - 128)/(128+0.0000001)\n",
    "\n",
    "\n",
    "# dictionary = {'x_train':train_images, 'x_valid':valid_images, 'x_test':test_images, 'y_train':train_classes, \n",
    "#               'y_valid':valid_classes, 'y_test':test_classes}\n",
    "\n",
    "# t_dict_end = time.time()\n",
    "# print t_dict_end - t_cl_end\n",
    "\n",
    "# np.savez(out_file, x_train=dictionary['x_train'], y_train=dictionary['y_train'], x_test=dictionary['x_test'], y_test=dictionary['y_test'], x_valid=dictionary['x_valid'], y_valid=dictionary['y_valid']) \n",
    "# t_save_end = time.time()\n",
    "# print t_save_end - t_dict_end \n",
    "\n",
    "# COMMENTING END IF THE FILE ALREADY EXISTS\n",
    "\n",
    "mnist_90_rotated = out_file\n",
    "# THEN, BY USING A DIFFERENT NUMPY ARRAY DICTIONARY, WE WILL BE LOADING OUR DATA.\n",
    "def load_data(x):\n",
    "    data = np.load(x)\n",
    "    \n",
    "    X_train, y_train = data['x_train'], np.argmax(data['y_train'], axis=-1)\n",
    "    X_valid, y_valid = data['x_valid'], np.argmax(data['y_valid'], axis=-1)\n",
    "    X_test, y_test = data['x_test'], np.argmax(data['y_test'], axis=-1)\n",
    "\n",
    "    # reshape for convolutions\n",
    "    X_train = X_train.reshape((X_train.shape[0], 1, DIM, DIM))\n",
    "    X_valid = X_valid.reshape((X_valid.shape[0], 1, DIM, DIM))\n",
    "    X_test = X_test.reshape((X_test.shape[0], 1, DIM, DIM))\n",
    "    \n",
    "    print \"Train samples:\", X_train.shape\n",
    "    print \"Validation samples:\", X_valid.shape\n",
    "    print \"Test samples:\", X_test.shape\n",
    "\n",
    "    return dict(\n",
    "        X_train=lasagne.utils.floatX(X_train),\n",
    "        y_train=y_train.astype('int32'),\n",
    "        X_valid=lasagne.utils.floatX(X_valid),\n",
    "        y_valid=y_valid.astype('int32'),\n",
    "        X_test=lasagne.utils.floatX(X_test),\n",
    "        y_test=y_test.astype('int32'),\n",
    "        num_examples_train=X_train.shape[0],\n",
    "        num_examples_valid=X_valid.shape[0],\n",
    "        num_examples_test=X_test.shape[0],\n",
    "        input_height=X_train.shape[2],\n",
    "        input_width=X_train.shape[3],\n",
    "        output_dim=10,)\n",
    "data = load_data(mnist_90_rotated)\n",
    "# print time.time() - t_save_end\n"
   ]
  },
  {
   "cell_type": "code",
   "execution_count": 5,
   "metadata": {
    "collapsed": false,
    "deletable": true,
    "editable": true
   },
   "outputs": [
    {
     "name": "stdout",
     "output_type": "stream",
     "text": [
      "[[[-1. -1. -1. ..., -1. -1. -1.]\n",
      "  [-1. -1. -1. ..., -1. -1. -1.]\n",
      "  [-1. -1. -1. ..., -1. -1. -1.]\n",
      "  ..., \n",
      "  [-1. -1. -1. ..., -1. -1. -1.]\n",
      "  [-1. -1. -1. ..., -1. -1. -1.]\n",
      "  [-1. -1. -1. ..., -1. -1. -1.]]]\n",
      "[[[-1. -1. -1. ..., -1. -1. -1.]\n",
      "  [-1. -1. -1. ..., -1. -1. -1.]\n",
      "  [-1. -1. -1. ..., -1. -1. -1.]\n",
      "  ..., \n",
      "  [-1. -1. -1. ..., -1. -1. -1.]\n",
      "  [-1. -1. -1. ..., -1. -1. -1.]\n",
      "  [-1. -1. -1. ..., -1. -1. -1.]]]\n"
     ]
    }
   ],
   "source": [
    "print data['X_valid'][101]\n",
    "print data['X_train'][101]\n"
   ]
  },
  {
   "cell_type": "code",
   "execution_count": 110,
   "metadata": {
    "collapsed": false,
    "deletable": true,
    "editable": true
   },
   "outputs": [
    {
     "data": {
      "image/png": "[encoded data removed]",
      "text/plain": [
       "<matplotlib.figure.Figure at 0x7f9e5b2627d0>"
      ]
     },
     "metadata": {},
     "output_type": "display_data"
    }
   ],
   "source": [
    "plt.figure(figsize=(7,7))\n",
    "plt.imshow(data['X_test'][1010].reshape(DIM, DIM), cmap='gray', interpolation='none')\n",
    "plt.title('Cluttered MNIST', fontsize=20)\n",
    "plt.axis('off')\n",
    "plt.show()\n"
   ]
  },
  {
   "cell_type": "code",
   "execution_count": 7,
   "metadata": {
    "collapsed": false,
    "deletable": true,
    "editable": true
   },
   "outputs": [
    {
     "name": "stdout",
     "output_type": "stream",
     "text": [
      "Transformer network output shape:  (None, 1, 20, 20)\n"
     ]
    }
   ],
   "source": [
    "def build_model(input_width, input_height, output_dim,\n",
    "                batch_size=BATCH_SIZE):\n",
    "    ini = lasagne.init.HeUniform()\n",
    "    l_in = lasagne.layers.InputLayer(shape=(None, 1, input_width, input_height),)\n",
    "\n",
    "    # Localization network\n",
    "    b = np.zeros((2, 3), dtype=theano.config.floatX)\n",
    "    b[0, 0] = 1\n",
    "    b[1, 1] = 1\n",
    "    b = b.flatten()\n",
    "    loc_l1 = pool(l_in, pool_size=(2, 2))\n",
    "    loc_l2 = conv(\n",
    "        loc_l1, num_filters=20, filter_size=(5, 5), W=ini)\n",
    "    loc_l3 = pool(loc_l2, pool_size=(2, 2))\n",
    "    loc_l4 = conv(loc_l3, num_filters=20, filter_size=(5, 5), W=ini)\n",
    "    loc_l5 = lasagne.layers.DenseLayer(\n",
    "        loc_l4, num_units=50, W=lasagne.init.HeUniform('relu'))\n",
    "    loc_out = lasagne.layers.DenseLayer(\n",
    "        loc_l5, num_units=6, b=b, W=lasagne.init.Constant(0.0), \n",
    "        nonlinearity=lasagne.nonlinearities.identity)\n",
    "    \n",
    "    # Transformer network\n",
    "    l_trans1 = TransformerLayer(l_in, loc_out, downsample_factor=3.0)\n",
    "    print \"Transformer network output shape: \", l_trans1.output_shape\n",
    "    \n",
    "    # Classification network\n",
    "    class_l1 = conv(\n",
    "        l_trans1,\n",
    "        num_filters=32,\n",
    "        filter_size=(3, 3),\n",
    "        nonlinearity=lasagne.nonlinearities.rectify,\n",
    "        W=ini,\n",
    "    )\n",
    "    class_l2 = pool(class_l1, pool_size=(2, 2))\n",
    "    class_l3 = conv(\n",
    "        class_l2,\n",
    "        num_filters=32,\n",
    "        filter_size=(3, 3),\n",
    "        nonlinearity=lasagne.nonlinearities.rectify,\n",
    "        W=ini,\n",
    "    )\n",
    "    class_l4 = pool(class_l3, pool_size=(2, 2))\n",
    "    class_l5 = lasagne.layers.DenseLayer(\n",
    "        class_l4,\n",
    "        num_units=256,\n",
    "        nonlinearity=lasagne.nonlinearities.rectify,\n",
    "        W=ini,\n",
    "    )\n",
    "\n",
    "    l_out = lasagne.layers.DenseLayer(\n",
    "        class_l5,\n",
    "        num_units=output_dim,\n",
    "        nonlinearity=lasagne.nonlinearities.softmax,\n",
    "        W=ini,\n",
    "    )\n",
    "\n",
    "    return l_out, l_trans1, loc_out\n",
    "\n",
    "model, l_transform, thetas = build_model(DIM, DIM, NUM_CLASSES)\n",
    "model_params = lasagne.layers.get_all_params(model, trainable=True)\n"
   ]
  },
  {
   "cell_type": "code",
   "execution_count": 8,
   "metadata": {
    "collapsed": false,
    "deletable": true,
    "editable": true
   },
   "outputs": [
    {
     "name": "stderr",
     "output_type": "stream",
     "text": [
      "/usr/local/lib/python2.7/dist-packages/lasagne/layers/conv.py:489: UserWarning: The `image_shape` keyword argument to `tensor.nnet.conv2d` is deprecated, it has been renamed to `input_shape`.\n",
      "  border_mode=border_mode)\n",
      "WARNING (theano.tensor.blas): We did not found a dynamic library into the library_dir of the library we use for blas. If you use ATLAS, make sure to compile it with dynamics library.\n"
     ]
    }
   ],
   "source": [
    "X = T.tensor4()\n",
    "y = T.ivector()\n",
    "\n",
    "# training output\n",
    "output_train = lasagne.layers.get_output(model, X, deterministic=False)\n",
    "\n",
    "# evaluation output. Also includes output of transform for plotting\n",
    "output_eval, transform_eval, thetas_tensor = lasagne.layers.get_output([model, l_transform, thetas], X, deterministic=True)\n",
    "\n",
    "sh_lr = theano.shared(lasagne.utils.floatX(LEARNING_RATE))\n",
    "cost = T.mean(T.nnet.categorical_crossentropy(output_train, y))\n",
    "cost_test = T.mean(T.nnet.categorical_crossentropy(output_eval, y))\n",
    "updates = lasagne.updates.adam(cost, model_params, learning_rate=sh_lr)\n",
    "\n",
    "train = theano.function([X, y], [cost, output_train], updates=updates)\n",
    "eval = theano.function([X, y], [output_eval, transform_eval, thetas_tensor, cost_test])\n"
   ]
  },
  {
   "cell_type": "code",
   "execution_count": 10,
   "metadata": {
    "collapsed": false,
    "deletable": true,
    "editable": true
   },
   "outputs": [
    {
     "name": "stdout",
     "output_type": "stream",
     "text": [
      "Done\n"
     ]
    }
   ],
   "source": [
    "def train_epoch(X, y):\n",
    "    num_samples = X.shape[0]\n",
    "    num_batches = int(np.ceil(num_samples / float(BATCH_SIZE)))\n",
    "    loss = []\n",
    "    correct = 0\n",
    "    for i in range(num_batches):\n",
    "        idx = range(i*BATCH_SIZE, np.minimum((i+1)*BATCH_SIZE, num_samples))\n",
    "        X_batch = X[idx]\n",
    "        y_batch = y[idx]\n",
    "        cost_batch, output_train = train(X_batch, y_batch)\n",
    "        loss += [cost_batch]\n",
    "        preds = np.argmax(output_train, axis=-1)\n",
    "        correct += np.sum(y_batch == preds)\n",
    "\n",
    "    return np.mean(loss), correct / float(num_samples)\n",
    "\n",
    "\n",
    "def eval_epoch(X, y):\n",
    "    loss = []\n",
    "    output_eval, transform_eval, actual_thetas, loss = eval(X, y)\n",
    "    preds = np.argmax(output_eval, axis=-1)\n",
    "    acc = np.mean(preds == y)\n",
    "    return np.mean(loss), acc, transform_eval, actual_thetas, preds, output_eval\n",
    "\n",
    "print \"Done\""
   ]
  },
  {
   "cell_type": "code",
   "execution_count": null,
   "metadata": {
    "collapsed": false,
    "deletable": true,
    "editable": true
   },
   "outputs": [],
   "source": [
    "#EDITS SHOULD BE PERFORMED\n",
    "# BEFORE TRAINING, HOW IS THE ACCURACY LIKE?\n",
    "# y_test2 = np.array([1, 1, 1, 1, 4, 4, 4, 4, 7, 0, 7, 2, 2, 2, 0, 0, 0, 2, 7, 7, 3, 3, 3, 3, 6, 6, 5, 5, 5, 5, 8, 6, 8, 6, 8, 8, 9, 9, 9, 9], dtype=np.int32)\n",
    "# X_test2 = np.zeros((y_test2.shape[0], 1, 60, 60), dtype=np.float32)\n",
    "# for i in range(40):\n",
    "#     X_test2[i] = cv2.imread(\"/home/dl2/caner_grad/temp/translated_ones/\"+str(i)+ \".png\", cv2.IMREAD_GRAYSCALE)\n",
    "# for i in range(40):    \n",
    "#     X_test2[i] = (X_test2[i] - np.mean(X_test2[i]))/np.std(X_test2[i])\n",
    "# test_loss2, test_acc2, test_transform2, actual_thetas2, preds2, output_eval2 = eval_epoch(X_test2, y_test2)\n",
    "# print \"test loss {0}, test acc {1}\".format(test_loss2, test_acc2)"
   ]
  },
  {
   "cell_type": "code",
   "execution_count": null,
   "metadata": {
    "collapsed": false,
    "deletable": true,
    "editable": true
   },
   "outputs": [],
   "source": [
    "# plt.figure(figsize=(7,28))\n",
    "# k=20\n",
    "# for i in range(k):\n",
    "#     plt.subplot(k,2,1+i*2)\n",
    "#     plt.imshow(X_test2[i].reshape(DIM, DIM), cmap='gray', interpolation='none')\n",
    "#     if i == 0:\n",
    "#         plt.title('Original 60x60', fontsize=20)\n",
    "#     plt.axis('off')\n",
    "#     plt.subplot(k,2,2+i*2)\n",
    "#     plt.imshow(test_transform2[i].reshape(DIM//3, DIM//3), cmap='gray', interpolation='none')\n",
    "#     if i == 0:\n",
    "#         plt.title('Transformed 20x20', fontsize=20)\n",
    "#     plt.axis('off')\n",
    "# plt.tight_layout()\n"
   ]
  },
  {
   "cell_type": "code",
   "execution_count": null,
   "metadata": {
    "collapsed": false,
    "deletable": true,
    "editable": true
   },
   "outputs": [],
   "source": [
    "# SKIP IF ALREADY PRETRAINED\n",
    "# theano.config.exception_verbosity=\"high\"\n",
    "\n",
    "# valid_accs, train_accs = [], []\n",
    "# valid_losses, train_losses = [], []\n",
    "# test_accs = []\n",
    "# test_losses = []\n",
    "\n",
    "# try:\n",
    "#     for n in range(NUM_EPOCHS):\n",
    "#         train_loss, train_acc = train_epoch(data['X_train'], data['y_train'])\n",
    "#         val_loss, valid_acc, valid_trainsform, dummy, preds_valid, output_eval_valid  = eval_epoch(data['X_valid'], data['y_valid'])\n",
    "#         valid_accs += [valid_acc]\n",
    "#         train_accs += [train_acc]\n",
    "#         valid_losses += [val_loss]\n",
    "#         train_losses += [train_loss]\n",
    "        \n",
    "#         if n%10 == 0:\n",
    "#             np.savez('model'+str(n)+'.npz', *lasagne.layers.get_all_param_values(model))\n",
    "\n",
    "#         if (n+1) % 20 == 0:\n",
    "#             new_lr = sh_lr.get_value() * 0.7\n",
    "#             print \"New LR:\", new_lr\n",
    "#             sh_lr.set_value(lasagne.utils.floatX(new_lr))\n",
    "\n",
    "# #         print \"Epoch {0}: Train loss {1}, Train acc {2}, val acc {3}, test acc {4}\".format(\n",
    "# #                 n, train_loss, train_acc, valid_acc, test_acc) \n",
    "#         print \"Epoch {0}: Train loss {1}, Train acc {2}, val acc {3}\".format(\n",
    "#                 n, train_loss, train_acc, valid_acc)\n",
    "# #         print \"Epoch {0}: Train loss {1}, Train acc {2}\".format(\n",
    "# #                 n, train_loss, train_acc)\n",
    "# except KeyboardInterrupt:\n",
    "#     pass\n"
   ]
  },
  {
   "cell_type": "code",
   "execution_count": 11,
   "metadata": {
    "collapsed": false,
    "deletable": true,
    "editable": true
   },
   "outputs": [
    {
     "name": "stdout",
     "output_type": "stream",
     "text": [
      "Testing session\n"
     ]
    }
   ],
   "source": [
    "test_accs = []\n",
    "test_losses = []\n",
    "preds_train = []\n",
    "\n",
    "print \"Testing session\"\n",
    "\n",
    "theano.config.exception_verbosity=\"high\"\n",
    "for i in range(11):\n",
    "    with np.load('6_thetas/model'+str(i*10)+\".npz\") as f:\n",
    "         param_values = [f['arr_%d' % i] for i in range(len(f.files))]\n",
    "    lasagne.layers.set_all_param_values(model, param_values)\n",
    "    test_loss, test_acc, test_transform, actual_thetas, preds, output_eval = eval_epoch(data['X_test'][:], data['y_test'][:])\n",
    "    test_accs += [test_acc]\n",
    "    test_losses += [test_loss]\n",
    "    preds_train += [np.argmax(output_eval, axis=-1)]\n",
    "\n"
   ]
  },
  {
   "cell_type": "code",
   "execution_count": 12,
   "metadata": {
    "collapsed": false,
    "deletable": true,
    "editable": true
   },
   "outputs": [
    {
     "name": "stdout",
     "output_type": "stream",
     "text": [
      "[0.32056159, 0.064431168, 0.041286718, 0.050997157, 0.041102294, 0.044836067, 0.04174789, 0.050766777, 0.0459208, 0.05030885, 0.054118395]\n",
      "[0.89906666666666668, 0.9785666666666667, 0.98683333333333334, 0.98516666666666663, 0.98896666666666666, 0.98866666666666669, 0.99003333333333332, 0.98926666666666663, 0.99086666666666667, 0.99013333333333331, 0.98950000000000005]\n"
     ]
    }
   ],
   "source": [
    "#TEST ACC & LOSS FOR MODELS \n",
    "print test_losses\n",
    "print test_accs"
   ]
  },
  {
   "cell_type": "code",
   "execution_count": 13,
   "metadata": {
    "collapsed": false,
    "deletable": true,
    "editable": true
   },
   "outputs": [
    {
     "name": "stdout",
     "output_type": "stream",
     "text": [
      "[0.32056159, 0.064431168, 0.041286718, 0.050997157, 0.041102294, 0.044836067, 0.04174789, 0.050766777, 0.0459208, 0.05030885, 0.054118395]\n",
      "[0.89906666666666668, 0.9785666666666667, 0.98683333333333334, 0.98516666666666663, 0.98896666666666666, 0.98866666666666669, 0.99003333333333332, 0.98926666666666663, 0.99086666666666667, 0.99013333333333331, 0.98950000000000005]\n"
     ]
    }
   ],
   "source": [
    "#VALID ACC & LOSS FOR MODELS\n",
    "print test_losses\n",
    "print test_accs"
   ]
  },
  {
   "cell_type": "code",
   "execution_count": 13,
   "metadata": {
    "collapsed": false,
    "deletable": true,
    "editable": true
   },
   "outputs": [
    {
     "ename": "NameError",
     "evalue": "name 'train_accs' is not defined",
     "output_type": "error",
     "traceback": [
      "\u001b[0;31m---------------------------------------------------------------------------\u001b[0m",
      "\u001b[0;31mNameError\u001b[0m                                 Traceback (most recent call last)",
      "\u001b[0;32m<ipython-input-13-22d4d093d6d9>\u001b[0m in \u001b[0;36m<module>\u001b[0;34m()\u001b[0m\n\u001b[1;32m      1\u001b[0m \u001b[0mplt\u001b[0m\u001b[0;34m.\u001b[0m\u001b[0mfigure\u001b[0m\u001b[0;34m(\u001b[0m\u001b[0mfigsize\u001b[0m\u001b[0;34m=\u001b[0m\u001b[0;34m(\u001b[0m\u001b[0;36m7\u001b[0m\u001b[0;34m,\u001b[0m\u001b[0;36m7\u001b[0m\u001b[0;34m)\u001b[0m\u001b[0;34m)\u001b[0m\u001b[0;34m\u001b[0m\u001b[0m\n\u001b[1;32m      2\u001b[0m \u001b[0mplt\u001b[0m\u001b[0;34m.\u001b[0m\u001b[0mtitle\u001b[0m\u001b[0;34m(\u001b[0m\u001b[0;34m'Accuracies'\u001b[0m\u001b[0;34m,\u001b[0m \u001b[0mfontsize\u001b[0m\u001b[0;34m=\u001b[0m\u001b[0;36m20\u001b[0m\u001b[0;34m)\u001b[0m\u001b[0;34m\u001b[0m\u001b[0m\n\u001b[0;32m----> 3\u001b[0;31m \u001b[0mplt\u001b[0m\u001b[0;34m.\u001b[0m\u001b[0mplot\u001b[0m\u001b[0;34m(\u001b[0m\u001b[0;36m1\u001b[0m\u001b[0;34m-\u001b[0m\u001b[0mnp\u001b[0m\u001b[0;34m.\u001b[0m\u001b[0marray\u001b[0m\u001b[0;34m(\u001b[0m\u001b[0mtrain_accs\u001b[0m\u001b[0;34m)\u001b[0m\u001b[0;34m,\u001b[0m \u001b[0mlabel\u001b[0m\u001b[0;34m=\u001b[0m\u001b[0;34m'Training Error'\u001b[0m\u001b[0;34m)\u001b[0m\u001b[0;34m\u001b[0m\u001b[0m\n\u001b[0m\u001b[1;32m      4\u001b[0m \u001b[0mplt\u001b[0m\u001b[0;34m.\u001b[0m\u001b[0mplot\u001b[0m\u001b[0;34m(\u001b[0m\u001b[0;36m1\u001b[0m\u001b[0;34m-\u001b[0m\u001b[0mnp\u001b[0m\u001b[0;34m.\u001b[0m\u001b[0marray\u001b[0m\u001b[0;34m(\u001b[0m\u001b[0mvalid_accs\u001b[0m\u001b[0;34m)\u001b[0m\u001b[0;34m,\u001b[0m \u001b[0mlabel\u001b[0m\u001b[0;34m=\u001b[0m\u001b[0;34m'Validation Error'\u001b[0m\u001b[0;34m)\u001b[0m\u001b[0;34m\u001b[0m\u001b[0m\n\u001b[1;32m      5\u001b[0m \u001b[0mplt\u001b[0m\u001b[0;34m.\u001b[0m\u001b[0mplot\u001b[0m\u001b[0;34m(\u001b[0m\u001b[0;36m1\u001b[0m\u001b[0;34m-\u001b[0m\u001b[0mnp\u001b[0m\u001b[0;34m.\u001b[0m\u001b[0marray\u001b[0m\u001b[0;34m(\u001b[0m\u001b[0mtest_accs\u001b[0m\u001b[0;34m)\u001b[0m\u001b[0;34m,\u001b[0m \u001b[0mlabel\u001b[0m\u001b[0;34m=\u001b[0m\u001b[0;34m'Testing Error'\u001b[0m\u001b[0;34m)\u001b[0m\u001b[0;34m\u001b[0m\u001b[0m\n",
      "\u001b[0;31mNameError\u001b[0m: name 'train_accs' is not defined"
     ]
    },
    {
     "data": {
      "image/png": "[encoded data removed]",
      "text/plain": [
       "<matplotlib.figure.Figure at 0x7ff5ac22d410>"
      ]
     },
     "metadata": {},
     "output_type": "display_data"
    }
   ],
   "source": [
    "plt.figure(figsize=(7,7))\n",
    "plt.title('Accuracies', fontsize=20)\n",
    "plt.plot(1-np.array(train_accs), label='Training Error')\n",
    "plt.plot(1-np.array(valid_accs), label='Validation Error')\n",
    "plt.plot(1-np.array(test_accs), label='Testing Error')\n",
    "plt.legend(fontsize=20)\n",
    "plt.xlabel('Epoch', fontsize=20)\n",
    "plt.ylabel('Error', fontsize=20)\n",
    "plt.show()\n",
    "\n",
    "plt.figure(figsize=(7,7))\n",
    "plt.plot(range(len(train_losses)), train_losses, label='Training Loss')\n",
    "plt.plot(range(len(valid_losses)), valid_losses, label='Validation Loss')\n",
    "plt.plot(range(len(test_losses)), test_losses, label='Testing Loss')\n",
    "plt.xlabel('Epoch', fontsize=20)\n",
    "plt.legend(fontsize=20)\n",
    "plt.title('Train Loss', fontsize=20)\n",
    "plt.show()\n"
   ]
  },
  {
   "cell_type": "code",
   "execution_count": null,
   "metadata": {
    "collapsed": false,
    "deletable": true,
    "editable": true
   },
   "outputs": [],
   "source": [
    "print data['X_train'][1].shape"
   ]
  },
  {
   "cell_type": "code",
   "execution_count": 13,
   "metadata": {
    "collapsed": false,
    "deletable": true,
    "editable": true
   },
   "outputs": [
    {
     "data": {
      "image/png": "[encoded data removed]",
      "text/plain": [
       "<matplotlib.figure.Figure at 0x7f9e5b2626d0>"
      ]
     },
     "metadata": {},
     "output_type": "display_data"
    }
   ],
   "source": [
    "plt.figure(figsize=(7,14))\n",
    "k=1\n",
    "l = 3305\n",
    "for i in [l+j for j in range(k)]:\n",
    "    plt.subplot(k,2,1+(i-l)*2)\n",
    "    plt.imshow(data['X_test'][i].reshape(DIM, DIM), cmap='gray', interpolation='none')\n",
    "    if i == 0:\n",
    "        plt.title('Original 60x60', fontsize=20)\n",
    "    plt.axis('off')\n",
    "    plt.subplot(k,2,2+(i-l)*2)\n",
    "    plt.imshow(test_transform[i].reshape(DIM//3, DIM//3), cmap='gray', interpolation='none')\n",
    "    if i == 0:\n",
    "        plt.title('Transformed 20x20', fontsize=20)\n",
    "    plt.axis('off')\n",
    "plt.tight_layout()\n"
   ]
  },
  {
   "cell_type": "code",
   "execution_count": 14,
   "metadata": {
    "collapsed": false,
    "deletable": true,
    "editable": true
   },
   "outputs": [
    {
     "data": {
      "image/png": "[encoded data removed]",
      "text/plain": [
       "<matplotlib.figure.Figure at 0x7f1bbbdba890>"
      ]
     },
     "metadata": {},
     "output_type": "display_data"
    }
   ],
   "source": [
    "plt.figure(figsize=(7,14))\n",
    "k=1\n",
    "l = 13305\n",
    "for i in [l+j for j in range(k)]:\n",
    "    plt.subplot(k,2,1+(i-l)*2)\n",
    "    plt.imshow(data['X_test'][i].reshape(DIM, DIM), cmap='gray', interpolation='none')\n",
    "    if i == 0:\n",
    "        plt.title('Original 60x60', fontsize=20)\n",
    "    plt.axis('off')\n",
    "    plt.subplot(k,2,2+(i-l)*2)\n",
    "    plt.imshow(test_transform[i].reshape(DIM//3, DIM//3), cmap='gray', interpolation='none')\n",
    "    if i == 0:\n",
    "        plt.title('Transformed 20x20', fontsize=20)\n",
    "    plt.axis('off')\n",
    "plt.tight_layout()\n"
   ]
  },
  {
   "cell_type": "code",
   "execution_count": 13,
   "metadata": {
    "collapsed": false,
    "deletable": true,
    "editable": true
   },
   "outputs": [
    {
     "data": {
      "image/png": "[encoded data removed]",
      "text/plain": [
       "<matplotlib.figure.Figure at 0x7f1bc1a47610>"
      ]
     },
     "metadata": {},
     "output_type": "display_data"
    }
   ],
   "source": [
    "plt.figure(figsize=(7,14))\n",
    "k=1\n",
    "l = 17000\n",
    "for i in [l+j for j in range(k)]:\n",
    "    plt.subplot(k,2,1+(i-l)*2)\n",
    "    plt.imshow(data['X_test'][i].reshape(DIM, DIM), cmap='gray', interpolation='none')\n",
    "    if i == 0:\n",
    "        plt.title('Original 60x60', fontsize=20)\n",
    "    plt.axis('off')\n",
    "    plt.subplot(k,2,2+(i-l)*2)\n",
    "    plt.imshow(test_transform[i].reshape(DIM//3, DIM//3), cmap='gray', interpolation='none')\n",
    "    if i == 0:\n",
    "        plt.title('Transformed 20x20', fontsize=20)\n",
    "    plt.axis('off')\n",
    "plt.tight_layout()"
   ]
  },
  {
   "cell_type": "code",
   "execution_count": null,
   "metadata": {
    "collapsed": false,
    "deletable": true,
    "editable": true
   },
   "outputs": [],
   "source": [
    "r_theta = (lambda theta: np.array([[1, 0, 0 ], [0, np.cos(theta), -np.sin(theta)], [0, np.sin(theta), np.cos(theta)]]))\n",
    "r_fi = (lambda fi: np.array([[np.cos(fi), 0, np.sin(fi)], [0, 1, 0], [-np.sin(fi), 0, np.cos(fi)]]))\n",
    "r_phi = (lambda phi: np.array([[np.cos(phi), -np.sin(phi), 0], [np.sin(phi), np.cos(phi), 0], [0, 0, 1]]))\n",
    "\n",
    "#print r_phi(50)*r_fi(45)*r_theta(15)\n",
    "klm = lambda theta, fi, phi:np.array([[1, 0, 0 ], [0, np.cos(theta), -np.sin(theta)], [0, np.sin(theta), np.cos(theta)]])*np.array([[np.cos(fi), 0, np.sin(fi)], [0, 1, 0], [-np.sin(fi), 0, np.cos(fi)]])*np.array([[np.cos(phi), -np.sin(phi), 0], [np.sin(phi), np.cos(phi), 0], [0, 0, 1]])"
   ]
  },
  {
   "cell_type": "code",
   "execution_count": 14,
   "metadata": {
    "collapsed": false,
    "deletable": true,
    "editable": true
   },
   "outputs": [
    {
     "name": "stdout",
     "output_type": "stream",
     "text": [
      "[[ 0.50467253 -0.01581604  0.42394128  0.04846202  0.49830046 -0.10282333]]\n",
      "[[ 0.50512022 -0.01683337  0.27006099  0.0443212   0.50553226 -0.40476274]]\n",
      "[[ 0.49880707 -0.01644314 -0.43477911  0.04059394  0.50751305 -0.38101694]]\n",
      "[-0.01824819 -0.02044828 -0.01696042 ..., -0.02208564 -0.01424192\n",
      " -0.02112924]\n",
      "28440\n",
      "[ 0.52907753 -0.03630979 -0.53117764  0.02755881  0.53859097  0.50561893]\n",
      "-12.333788278\n",
      "23305\n",
      "[ 0.52301472 -0.01852568 -0.26683792  0.03304233  0.52292573  0.27231303]\n",
      "13305\n",
      "[ 0.50512022 -0.01683337  0.27006099  0.0443212   0.50553226 -0.40476274]\n"
     ]
    }
   ],
   "source": [
    "def matrix_to_params(inputs):\n",
    "    translation_x, translation_y = inputs[2], inputs[5]\n",
    "    temp_matrix = [[inputs[0], inputs[1]], [inputs[3], inputs[4]]]\n",
    "    angle = np.arctan(temp_matrix[1][0]/temp_matrix[0][0])\n",
    "    angle2 = np.arctan(-temp_matrix[0][1]/temp_matrix[1][1])\n",
    "    scale_x = inputs[0]/np.cos(angle)\n",
    "    scale_y = inputs[4]/np.cos(angle)\n",
    "    return scale_x, scale_y, angle*180, angle2*180, translation_x, translation_y\n",
    "print (actual_thetas[3305:3305+k])\n",
    "print actual_thetas[13305:13305+k]\n",
    "print (actual_thetas[17000:17000+k])\n",
    "\n",
    "threshold = 0.00\n",
    "sec_param = actual_thetas[:,1]\n",
    "print sec_param\n",
    "x = []\n",
    "for i in xrange(30000):\n",
    "    if(np.abs(sec_param[i])>threshold):\n",
    "        x+=[sec_param[i]]        \n",
    "min_rate = np.min(x)\n",
    "\n",
    "i = 0\n",
    "for i in xrange(30000):\n",
    "    if min_rate == sec_param[i]:\n",
    "        min_enum = i\n",
    "print min_enum\n",
    "print actual_thetas[min_enum]\n",
    "print np.arctan(-0.03630979/0.52907753)*180 \n",
    "\n",
    "print 23305\n",
    "print actual_thetas[23305]\n",
    "\n",
    "print 13305\n",
    "print actual_thetas[13305]\n",
    "\n"
   ]
  },
  {
   "cell_type": "code",
   "execution_count": 15,
   "metadata": {
    "collapsed": false,
    "deletable": true,
    "editable": true
   },
   "outputs": [
    {
     "data": {
      "image/png": "[encoded data removed]",
      "text/plain": [
       "<matplotlib.figure.Figure at 0x7f9e5b118d90>"
      ]
     },
     "metadata": {},
     "output_type": "display_data"
    }
   ],
   "source": [
    "plt.figure(figsize=(7,14))\n",
    "k=1\n",
    "l = 3305\n",
    "for i in [l+j for j in range(k)]:\n",
    "    plt.subplot(k,2,1+(i-l)*2)\n",
    "    plt.imshow(data['X_test'][i].reshape(DIM, DIM), cmap='gray', interpolation='none')\n",
    "    if i == 0:\n",
    "        plt.title('Original 60x60', fontsize=20)\n",
    "    plt.axis('off')\n",
    "    plt.subplot(k,2,2+(i-l)*2)\n",
    "    plt.imshow(test_transform[i].reshape(DIM//3, DIM//3), cmap='gray', interpolation='none')\n",
    "    if i == 0:\n",
    "        plt.title('Transformed 20x20', fontsize=20)\n",
    "    plt.axis('off')\n",
    "plt.tight_layout()"
   ]
  },
  {
   "cell_type": "code",
   "execution_count": 109,
   "metadata": {
    "collapsed": false,
    "deletable": true,
    "editable": true,
    "scrolled": false
   },
   "outputs": [
    {
     "name": "stdout",
     "output_type": "stream",
     "text": [
      "(3.0, 3.0)\n",
      "(1, 3, 60, 60)\n",
      "(3, 400)\n",
      "(1, 2, 3)\n",
      "(1, 2, 400)\n"
     ]
    },
    {
     "data": {
      "image/png": "[encoded data removed]",
      "text/plain": [
       "<matplotlib.figure.Figure at 0x7f9e5a364050>"
      ]
     },
     "metadata": {},
     "output_type": "display_data"
    },
    {
     "name": "stdout",
     "output_type": "stream",
     "text": [
      "[[0.50467253, -0.01581604, 0.42394128, 0.04846202, 0.49830046, -0.10282333]]\n",
      "(42.7182384, 26.9153001)\n"
     ]
    },
    {
     "data": {
      "image/png": "[encoded data removed]",
      "text/plain": [
       "<matplotlib.figure.Figure at 0x7f9e5a2c1dd0>"
      ]
     },
     "metadata": {},
     "output_type": "display_data"
    },
    {
     "name": "stdout",
     "output_type": "stream",
     "text": [
      "32.308467\n",
      "15.9800505\n",
      "53.1280098\n",
      "37.8505497\n"
     ]
    },
    {
     "data": {
      "image/png": "[encoded data removed]",
      "text/plain": [
       "<matplotlib.figure.Figure at 0x7f9e5afac110>"
      ]
     },
     "metadata": {},
     "output_type": "display_data"
    },
    {
     "data": {
      "image/png": "[encoded data removed]",
      "text/plain": [
       "<matplotlib.figure.Figure at 0x7f9e5b1435d0>"
      ]
     },
     "metadata": {},
     "output_type": "display_data"
    },
    {
     "name": "stdout",
     "output_type": "stream",
     "text": [
      "(42.7182384, 26.9153001)\n",
      "<type 'numpy.ndarray'>\n",
      "0.44393915\n"
     ]
    }
   ],
   "source": [
    "downsample_factor = 3.0\n",
    "downsample_factor = as_tuple(downsample_factor, 2)\n",
    "thetas = [[ 0.50467253, -0.01581604,  0.42394128,  0.04846202,  0.49830046, -0.10282333]]\n",
    "\n",
    "\n",
    "print downsample_factor\n",
    "def _transform_affine(theta, input, downsample_factor):\n",
    "    \n",
    "    num_batch, num_channels, height, width = input.shape\n",
    "    theta = np.reshape(theta, (-1, 2, 3))\n",
    "        \n",
    "    # grid of (x_t, y_t, 1), eq (1) in ref [1]\n",
    "    out_height = int(height // downsample_factor[0])\n",
    "    out_width = int(width // downsample_factor[1])\n",
    "    grid = _meshgrid(out_height, out_width)\n",
    "\n",
    "    # Transform A x (x_t, y_t, 1)^T -> (x_s, y_s)\n",
    "    print grid.shape\n",
    "    print theta.shape\n",
    "    T_g = np.dot(theta, grid)\n",
    "    print T_g.shape\n",
    "    x_s = T_g[:, 0]\n",
    "    y_s = T_g[:, 1]\n",
    "    x_s_flat = x_s.flatten() \n",
    "    y_s_flat = y_s.flatten()    \n",
    "    \n",
    "    \n",
    "    #EDITED PART STARTING\n",
    "#     x_s_flat -= theta[:,0,2]\n",
    "#     y_s_flat -= theta[:,1,2]\n",
    "#     print T_g.shape\n",
    "#     print theta.shape\n",
    "#     print grid.shape\n",
    "\n",
    "        \n",
    "#     THETA = np.array([[theta[:,0,0], theta[:,0,1]], [theta[:,1,0], theta[:,1,1]]]).reshape((2,2))\n",
    "    \n",
    "#     temp = np.dot(np.linalg.inv(THETA)[:,:], np.array((x_s_flat, y_s_flat), dtype=np.float32))\n",
    "    \n",
    "#     x_s_flat = (temp[0, :])\n",
    "#     y_s_flat = (temp[1, :])\n",
    "    \n",
    "#     out_height = 60\n",
    "#     out_width = 60\n",
    "    #EDITED PART ENDING\n",
    "    # dimshuffle input to  (bs, height, width, channels)\n",
    "    input_dim = input.transpose(0, 2, 3, 1)\n",
    "\n",
    "    input_transformed = _interpolate(\n",
    "        input_dim, x_s_flat, y_s_flat,\n",
    "        out_height, out_width)\n",
    " \n",
    "    \n",
    "    output = np.reshape(\n",
    "        input_transformed, (num_batch, out_height, out_width, num_channels))\n",
    "    output = output.transpose(0, 3, 1, 2)  # dimshuffle to conv format\n",
    "    return output, T_g, grid\n",
    "\n",
    "def _meshgrid(height, width):\n",
    "    x_t, y_t = np.meshgrid(np.linspace(-1, 1, width),\n",
    "                        np.linspace(-1, 1, height))\n",
    "    ones = np.ones(np.prod(x_t.shape))\n",
    "    grid = np.vstack([x_t.flatten(), y_t.flatten(), ones])\n",
    "    return grid\n",
    "\n",
    "def _interpolate(im, x, y, out_height, out_width):\n",
    "    num_batch, height, width, channels = im.shape\n",
    "    height_f = float(height)\n",
    "    width_f = float(width)\n",
    "    \n",
    "    output = np.zeros((out_height*out_width, 1))\n",
    "    \n",
    "    for i in xrange(x.shape[0]):\n",
    "        for n in xrange(height):\n",
    "            for m in xrange(width):\n",
    "                temp = im[num_batch-1][n][m][channels-1]\n",
    "                output[i] += temp*np.maximum(0, 1 - np.abs(x[i]-m))*np.maximum(0, 1 - np.abs(y[i]-n))\n",
    "    output = np.vstack((output, output, output)).reshape((400,3))\n",
    "\n",
    "    return output\n",
    "def _interpolate(im, x, y, out_height, out_width):\n",
    "    # *_f are floats\n",
    "    num_batch, height, width, channels = im.shape\n",
    "    height_f = float(height)\n",
    "    width_f = float(width)\n",
    "    \n",
    "    \n",
    "    # clip coordinates to [-1, 1]\n",
    "    x = np.clip(x, -1, 1)\n",
    "    y = np.clip(y, -1, 1)\n",
    "    # scale coordinates from [-1, 1] to [0, width/height - 1]\n",
    "    x = (x + 1) / 2 * (width_f - 1)\n",
    "    y = (y + 1) / 2 * (height_f - 1)\n",
    "\n",
    "    # obtain indices of the 2x2 pixel neighborhood surrounding the coordinates;\n",
    "    # we need those in floatX for interpolation and in int64 for indexing. for\n",
    "    # indexing, we need to take care they do not extend past the image.\n",
    "    x0_f = np.floor(x)\n",
    "    y0_f = np.floor(y)\n",
    "    \n",
    "    x1_f = x0_f + 1\n",
    "    y1_f = y0_f + 1\n",
    "\n",
    "    x0 = x0_f.astype(\"int\")\n",
    "    y0 = y0_f.astype(\"int\")\n",
    "    \n",
    "    x1 = np.minimum(x1_f, width_f - 1).astype(\"int\")\n",
    "    y1 = np.minimum(y1_f, height_f - 1).astype(\"int\")\n",
    "\n",
    "    # The input is [num_batch, height, width, channels]. We do the lookup in\n",
    "    # the flattened input, i.e [num_batch*height*width, channels]. We need\n",
    "    # to offset all indices to match the flat version\n",
    "    dim2 = width\n",
    "    dim1 = width*height\n",
    "    base = np.repeat(\n",
    "        np.arange(num_batch, dtype='int64')*dim1, out_height*out_width)\n",
    "\n",
    "    base_y0 = base + y0*dim2\n",
    "    base_y1 = base + y1*dim2\n",
    "    idx_a = base_y0 + x0\n",
    "    idx_b = base_y1 + x0\n",
    "    idx_c = base_y0 + x1\n",
    "    idx_d = base_y1 + x1\n",
    "\n",
    "    # use indices to lookup pixels for all samples\n",
    "    im_flat = im.reshape((-1, channels))\n",
    "    Ia = im_flat[idx_a]\n",
    "    Ib = im_flat[idx_b]\n",
    "    Ic = im_flat[idx_c]\n",
    "    Id = im_flat[idx_d]\n",
    "    \n",
    "    # calculate interpolated values\n",
    "    wa = np.expand_dims((x1_f-x) * (y1_f-y), 1)\n",
    "    wb = np.expand_dims((x1_f-x) * (y-y0_f), 1)\n",
    "    wc = np.expand_dims((x-x0_f) * (y1_f-y), 1)\n",
    "    wd = np.expand_dims((x-x0_f) * (y-y0_f), 1)\n",
    "    \n",
    "    output = np.sum([wa*Ia, wb*Ib, wc*Ic, wd*Id], axis=0)\n",
    "    return output\n",
    "\n",
    "\n",
    "test_image = cv2.imread(\"/home/dontgetdown/Documents/caner_grad/MNIST_IMAGES/45_90_derece/10k+10k_test/3/\"+str(3305)+\".png\")\n",
    "test_image = np.expand_dims(test_image.transpose(2, 0, 1), 0)\n",
    "print test_image.shape\n",
    "\n",
    "out_pic = _transform_affine(thetas, test_image, downsample_factor)\n",
    "\n",
    "# print out_pic[1]\n",
    "# plt.imshow(out_pic[0][0].transpose(1,2,0), cmap='gray', interpolation='none')\n",
    "# # Pick any of the three index, I have chosen 1.\n",
    "# plt.imshow(out_pic[0][0][1], cmap='gray', interpolation='none')\n",
    "# plt.show()\n",
    "# print out_pic[1][0][0]\n",
    "# print out_pic[1][0][1]\n",
    "def coordinates (out_pic, thetas, DIM, DIM_prime=DIM/3, *args):\n",
    "    x_es = DIM/2*out_pic[1][0][0]+DIM/2\n",
    "    x_es_avg = thetas[0][2]*DIM/2+DIM/2\n",
    "    x_es_prime = (x_es - x_es_avg)*DIM_prime/(DIM/2) + x_es_avg\n",
    "    \n",
    "    y_es = DIM/2*out_pic[1][0][1]+DIM/2\n",
    "    y_es_avg = thetas[0][5]*DIM/2+DIM/2\n",
    "    y_es_prime = (y_es - y_es_avg)*DIM_prime/(DIM/2) + y_es_avg\n",
    "\n",
    "    print (x_es_avg, y_es_avg)\n",
    "    return x_es_prime, y_es_prime\n",
    "\n",
    "\n",
    "def scatplotter(DIM, out_pic, thetas, s_ratio):\n",
    "    print thetas\n",
    "    x_es, y_es = coordinates(out_pic, thetas, DIM)\n",
    "    plt.scatter(x_es[0:20], y_es[0:20])\n",
    "    plt.scatter(x_es[380:400], y_es[380:400])\n",
    "    plt.scatter(x_es[19:399:20], y_es[19:399:20])\n",
    "    plt.scatter(x_es[0:380:20], y_es[0:380:20])    \n",
    "        \n",
    "    plt.scatter(thetas[0][2]*DIM/2+DIM/2, thetas[0][5]*DIM/2+DIM/2)\n",
    "\n",
    "#     plt.scatter(x_es, y_es)\n",
    "    plt.imshow(test_image[0][1], cmap='gray', interpolation='none')\n",
    "    plt.show()\n",
    "    \n",
    "    print x_es.min()\n",
    "    print y_es.min()\n",
    "    print x_es.max()\n",
    "    print y_es.max()\n",
    "    \n",
    "\n",
    "def plotter(image):\n",
    "    plt.imshow(image[0][0][1], cmap='gray', interpolation='none')\n",
    "    plt.show()\n",
    "\n",
    "def scatplotter2(DIM, out_pic, thetas, s_ratio):\n",
    "    x_es = DIM*(out_pic[2][0].flatten()+1)/2\n",
    "    y_es = DIM*(out_pic[2][1].flatten()+1)/2\n",
    "#     print x_es\n",
    "#     print y_es\n",
    "    \n",
    "    plt.scatter(x_es[:], y_es[:])\n",
    "    plt.scatter(x_es[:], y_es[:])\n",
    "    plt.scatter(x_es[:], y_es[:])\n",
    "    plt.scatter(x_es[:], y_es[:])\n",
    "#     plt.scatter(x_es, y_es)\n",
    "    plt.imshow(test_image[0][1], cmap='gray', interpolation='none')\n",
    "    plt.show()    \n",
    "    \n",
    "DIM = 60\n",
    "\n",
    "plt.imshow(test_image[0][1], cmap='gray', interpolation='none')\n",
    "plt.show()\n",
    "scatplotter(DIM, out_pic, thetas, downsample_factor[0])\n",
    "plotter(out_pic)\n",
    "scatplotter2(DIM, out_pic, thetas, downsample_factor[0])\n",
    "x_es = coordinates(out_pic, thetas, DIM)[0]\n",
    "print type(x_es)\n",
    "print np.max( out_pic[1][0][1])\n",
    "\n",
    "# print x_es\n",
    "# print y_es\n",
    "\n",
    "# print np.argmax(x_es, axis=-1)\n"
   ]
  },
  {
   "cell_type": "code",
   "execution_count": 21,
   "metadata": {
    "collapsed": false,
    "deletable": true,
    "editable": true
   },
   "outputs": [
    {
     "name": "stdout",
     "output_type": "stream",
     "text": [
      "(1, 3, 60, 60)\n",
      "(3, 400)\n",
      "(1, 2, 3)\n",
      "(1, 2, 400)\n"
     ]
    },
    {
     "data": {
      "image/png": "[encoded data removed]",
      "text/plain": [
       "<matplotlib.figure.Figure at 0x7f9e5aa4ee10>"
      ]
     },
     "metadata": {},
     "output_type": "display_data"
    },
    {
     "data": {
      "image/png": "[encoded data removed]",
      "text/plain": [
       "<matplotlib.figure.Figure at 0x7f9e5af248d0>"
      ]
     },
     "metadata": {},
     "output_type": "display_data"
    },
    {
     "name": "stdout",
     "output_type": "stream",
     "text": [
      "-2.8969488\n",
      "28.1840745\n",
      "31.0262904\n",
      "62.1530613\n"
     ]
    },
    {
     "data": {
      "image/png": "[encoded data removed]",
      "text/plain": [
       "<matplotlib.figure.Figure at 0x7f9e5a813790>"
      ]
     },
     "metadata": {},
     "output_type": "display_data"
    },
    {
     "data": {
      "image/png": "[encoded data removed]",
      "text/plain": [
       "<matplotlib.figure.Figure at 0x7f9e5a754610>"
      ]
     },
     "metadata": {},
     "output_type": "display_data"
    }
   ],
   "source": [
    "thetas = [[ 0.52907753, -0.03630979, -0.53117764,  0.02755881,  0.53859097,  0.50561893]]\n",
    "\n",
    "test_image = cv2.imread(\"/home/dontgetdown/Documents/caner_grad/MNIST_IMAGES/45_90_derece/10k+10k_test/8/\"+str(28440)+\".png\")\n",
    "test_image = np.expand_dims(test_image.transpose(2, 0, 1), 0)\n",
    "print test_image.shape\n",
    "\n",
    "out_pic = _transform_affine(thetas, test_image, downsample_factor)\n",
    "\n",
    "\n",
    "plt.imshow(test_image[0][1], cmap='gray', interpolation='none')\n",
    "plt.show()\n",
    "scatplotter(DIM, out_pic, thetas, downsample_factor[0])\n",
    "plotter(out_pic)\n",
    "scatplotter2(DIM, out_pic, thetas, downsample_factor[0])\n",
    "x_es = coordinates(out_pic, thetas, DIM)[0]"
   ]
  },
  {
   "cell_type": "code",
   "execution_count": 26,
   "metadata": {
    "collapsed": false,
    "deletable": true,
    "editable": true
   },
   "outputs": [
    {
     "name": "stdout",
     "output_type": "stream",
     "text": [
      "(1, 3, 60, 60)\n",
      "(3, 400)\n",
      "(1, 2, 3)\n",
      "(1, 2, 400)\n"
     ]
    },
    {
     "data": {
      "image/png": "[encoded data removed]",
      "text/plain": [
       "<matplotlib.figure.Figure at 0x7f4203e79410>"
      ]
     },
     "metadata": {},
     "output_type": "display_data"
    },
    {
     "data": {
      "image/png": "[encoded data removed]",
      "text/plain": [
       "<matplotlib.figure.Figure at 0x7f4253627890>"
      ]
     },
     "metadata": {},
     "output_type": "display_data"
    },
    {
     "name": "stdout",
     "output_type": "stream",
     "text": [
      "5.7486543\n",
      "21.4903467\n",
      "38.2410789\n",
      "54.8484297\n"
     ]
    },
    {
     "data": {
      "image/png": "[encoded data removed]",
      "text/plain": [
       "<matplotlib.figure.Figure at 0x7f4253621cd0>"
      ]
     },
     "metadata": {},
     "output_type": "display_data"
    },
    {
     "data": {
      "image/png": "[encoded data removed]",
      "text/plain": [
       "<matplotlib.figure.Figure at 0x7f4203c0ae90>"
      ]
     },
     "metadata": {},
     "output_type": "display_data"
    }
   ],
   "source": [
    "thetas = [[ 0.52301472, -0.01852569, -0.26683778,  0.03304232,  0.52292573,  0.27231294]]\n",
    "\n",
    "test_image = cv2.imread(\"/home/dontgetdown/Documents/caner_grad/MNIST_IMAGES/45_90_derece/10k+10k_test/3/\"+str(23305)+\".png\")\n",
    "test_image = np.expand_dims(test_image.transpose(2, 0, 1), 0)\n",
    "print test_image.shape\n",
    "\n",
    "out_pic = _transform_affine(thetas, test_image, downsample_factor)\n",
    "\n",
    "\n",
    "plt.imshow(test_image[0][1], cmap='gray', interpolation='none')\n",
    "plt.show()\n",
    "scatplotter(DIM, out_pic, thetas, downsample_factor[0])\n",
    "plotter(out_pic)\n",
    "scatplotter2(DIM, out_pic, thetas, downsample_factor[0])\n",
    "x_es = coordinates(out_pic, thetas, DIM)[0]"
   ]
  },
  {
   "cell_type": "code",
   "execution_count": 29,
   "metadata": {
    "collapsed": false,
    "deletable": true,
    "editable": true
   },
   "outputs": [
    {
     "name": "stdout",
     "output_type": "stream",
     "text": [
      "(1, 3, 60, 60)\n",
      "(3, 400)\n",
      "(1, 2, 3)\n",
      "(1, 2, 400)\n"
     ]
    },
    {
     "data": {
      "image/png": "[encoded data removed]",
      "text/plain": [
       "<matplotlib.figure.Figure at 0x7f420519c550>"
      ]
     },
     "metadata": {},
     "output_type": "display_data"
    },
    {
     "data": {
      "image/png": "[encoded data removed]",
      "text/plain": [
       "<matplotlib.figure.Figure at 0x7f4204a5d090>"
      ]
     },
     "metadata": {},
     "output_type": "display_data"
    },
    {
     "name": "stdout",
     "output_type": "stream",
     "text": [
      "22.4432202\n",
      "1.3615158\n",
      "53.7604356\n",
      "34.3527264\n"
     ]
    },
    {
     "data": {
      "image/png": "[encoded data removed]",
      "text/plain": [
       "<matplotlib.figure.Figure at 0x7f4204a5df10>"
      ]
     },
     "metadata": {},
     "output_type": "display_data"
    },
    {
     "data": {
      "image/png": "[encoded data removed]",
      "text/plain": [
       "<matplotlib.figure.Figure at 0x7f4203fc9fd0>"
      ]
     },
     "metadata": {},
     "output_type": "display_data"
    }
   ],
   "source": [
    "thetas = [[ 0.50512022, -0.01683337,  0.27006093,  0.04432119,  0.50553232, -0.40476263]]\n",
    "\n",
    "test_image = cv2.imread(\"/home/dontgetdown/Documents/caner_grad/MNIST_IMAGES/45_90_derece/10k+10k_test/3/\"+str(13305)+\".png\")\n",
    "test_image = np.expand_dims(test_image.transpose(2, 0, 1), 0)\n",
    "print test_image.shape\n",
    "\n",
    "out_pic = _transform_affine(thetas, test_image, downsample_factor)\n",
    "\n",
    "\n",
    "plt.imshow(test_image[0][1], cmap='gray', interpolation='none')\n",
    "plt.show()\n",
    "scatplotter(DIM, out_pic, thetas, downsample_factor[0])\n",
    "plotter(out_pic)\n",
    "scatplotter2(DIM, out_pic, thetas, downsample_factor[0])\n",
    "x_es = coordinates(out_pic, thetas, DIM)[0]"
   ]
  },
  {
   "cell_type": "code",
   "execution_count": null,
   "metadata": {
    "collapsed": false,
    "deletable": true,
    "editable": true
   },
   "outputs": [],
   "source": [
    "y_test3 = np.array([1, 1, 1, 1, 4, 4, 4, 4, 7, 0, 7, 2, 2, 2, 0, 0, 0, 2, 7, 7, 3, 3, 3, 3, 6, 6, 5, 5, 5, 5, 8, 6, 8, 6, 8, 8, 9, 9, 9, 9], dtype=np.int32)\n",
    "X_test3 = np.zeros((y_test3.shape[0], 1, 60, 60), dtype=np.float32)\n",
    "print y_test3.shape\n",
    "for i in range(40):\n",
    "    X_test3[i] = (cv2.imread(\"/home/dl2/caner_grad/temp/translated_ones/\"+str(i)+ \".png\", cv2.IMREAD_GRAYSCALE))\n",
    "mean_target = np.mean(data[\"X_train\"], axis=0)\n",
    "std_target = np.std(data[\"X_train\"], axis=0)\n",
    "mean_test = (np.mean(X_test3, axis=0))\n",
    "std_test = (np.std(X_test3, axis=0))+1e-1/5\n",
    "\n",
    "X_test3_new = (X_test3 - mean_test + mean_target)/std_test*std_target\n",
    "print X_test3_new[0]\n",
    "# print(np.std(X_test3, axis=0))\n",
    "\n",
    "\n",
    "test_loss3, test_acc3, test_transform3, actual_thetas3, preds3, output_eval3 = eval_epoch(X_test3_new, y_test3)\n",
    "print \"test loss {0}, test acc {1}\".format(test_loss3, test_acc3)\n",
    "print(np.mean(X_test3_new[0]), np.std(X_test3_new[0]))\n",
    "print(np.mean(data['X_test']), np.std(data['X_test']))\n"
   ]
  },
  {
   "cell_type": "code",
   "execution_count": null,
   "metadata": {
    "collapsed": false,
    "deletable": true,
    "editable": true
   },
   "outputs": [],
   "source": [
    "M = cv2.getRotationMatrix2D((30, 30),90,1)\n",
    "\n",
    "k=7\n",
    "\n",
    "y_test3 = data[\"y_test\"][:k].copy()\n",
    "X_test3 = data[\"X_test\"][:k].copy()\n",
    "print(X_test3.shape)\n",
    "\n",
    "for i in range(k):\n",
    "    a = cv2.warpAffine(np.squeeze(X_test3[i]),M,(60,60))\n",
    "    X_test3[i] = np.expand_dims(a, 0)\n",
    "    \n",
    "\n",
    "test_loss3, test_acc3, test_transform3, actual_thetas3, preds_rot, output_eval3 = eval_epoch(X_test3, y_test3)\n",
    "print \"test loss {0}, test acc {1}\".format(test_loss3, test_acc3)\n",
    "print(np.mean(X_test3[0]), np.std(X_test3[0]))\n",
    "print(np.mean(data['X_test']), np.std(data['X_test']))\n",
    "print preds_rot\n",
    "print actual_thetas3[:8] \n",
    "print output_eval3"
   ]
  },
  {
   "cell_type": "code",
   "execution_count": null,
   "metadata": {
    "collapsed": false,
    "deletable": true,
    "editable": true
   },
   "outputs": [],
   "source": [
    "plt.figure(figsize=(7,14))\n",
    "k=7\n",
    "for i in range(k):\n",
    "    \n",
    "    plt.subplot(k,2,1+i*2)\n",
    "    plt.imshow(X_test3[i].reshape(DIM, DIM), cmap='gray', interpolation='none')\n",
    "    if i == 0:\n",
    "        plt.title('Original 60x60', fontsize=20)\n",
    "    plt.axis('off')\n",
    "    plt.subplot(k,2,2+i*2)\n",
    "    plt.imshow(test_transform3[i].reshape(DIM//3, DIM//3), cmap='gray', interpolation='none')\n",
    "    if i == 0:\n",
    "        plt.title('Transformed 20x20', fontsize=20)\n",
    "    plt.axis('off')\n",
    "plt.tight_layout()\n"
   ]
  },
  {
   "cell_type": "code",
   "execution_count": 18,
   "metadata": {
    "collapsed": false,
    "deletable": true,
    "editable": true
   },
   "outputs": [],
   "source": [
    "from sklearn import svm, datasets\n",
    "from sklearn.model_selection import train_test_split\n",
    "from sklearn.metrics import confusion_matrix\n",
    "\n",
    "import itertools\n",
    "\n",
    "def plot_confusion_matrix(cm, classes,\n",
    "                          normalize=False,\n",
    "                          title='Confusion matrix',\n",
    "                          cmap=plt.cm.Blues):\n",
    "    \"\"\"\n",
    "    This function prints and plots the confusion matrix.\n",
    "    Normalization can be applied by setting `normalize=True`.\n",
    "    \"\"\"\n",
    "    plt.imshow(cm, interpolation='nearest', cmap=cmap              )\n",
    "    plt.title(title)\n",
    "    plt.colorbar()\n",
    "    tick_marks = np.arange(len(classes))\n",
    "    plt.xticks(tick_marks, classes, rotation=60)\n",
    "    plt.yticks(tick_marks, classes)\n",
    "\n",
    "    if normalize:\n",
    "        cm = cm.astype('float16') / cm.sum(axis=1)[:, np.newaxis]\n",
    "        print(\"Normalized confusion matrix\")\n",
    "    else:\n",
    "        print('Confusion matrix, without normalization')\n",
    "\n",
    "    print(cm)\n",
    "\n",
    "    thresh = cm.max() / 2.\n",
    "    for i, j in itertools.product(range(cm.shape[0]), range(cm.shape[1])):\n",
    "        plt.text(j, i, np.around(cm[i, j],decimals = 3),\n",
    "                 horizontalalignment=\"center\",\n",
    "                 color=\"white\" if cm[i, j] > thresh else \"black\")\n",
    "\n",
    "    plt.tight_layout()\n",
    "    plt.ylabel('True label')\n",
    "    plt.xlabel('Predicted label')"
   ]
  },
  {
   "cell_type": "code",
   "execution_count": 21,
   "metadata": {
    "collapsed": false,
    "deletable": true,
    "editable": true
   },
   "outputs": [
    {
     "name": "stdout",
     "output_type": "stream",
     "text": [
      "[0 0 0 ..., 9 9 9]\n",
      "Confusion matrix, without normalization\n",
      "[[2928    0    1    3    0    1    1    2    2    2]\n",
      " [   0 3398    2    0    0    0    1    3    1    0]\n",
      " [   6    1 3068    6    3    0    0   10    2    0]\n",
      " [   0    0    2 3011    0    7    0    4    5    1]\n",
      " [   0    0    3    1 2908    2    4    2    1   25]\n",
      " [   2    2    0   18    5 2630    9    1    2    7]\n",
      " [  14    7    5    3    6   19 2816    1    2    1]\n",
      " [   1   10   13    6    4    1    0 3042    1    6]\n",
      " [   2    0    7    8    4    1    1    1 2890    8]\n",
      " [   1    0    0    3    9    4    2    7    7 2994]]\n"
     ]
    },
    {
     "data": {
      "image/png": "[encoded data removed]",
      "text/plain": [
       "<matplotlib.figure.Figure at 0x7ff5a21da4d0>"
      ]
     },
     "metadata": {},
     "output_type": "display_data"
    }
   ],
   "source": [
    "plt.figure(figsize = (7,7))\n",
    "print np.argmax(output_eval, axis=1)[0:30000]\n",
    "y_true = data['y_test'][:30000]\n",
    "y_pred = np.argmax(output_eval, axis=1)[:30000]\n",
    "\n",
    "cnf_matrix = confusion_matrix(y_true, y_pred)\n",
    "\n",
    "class_names = [\"0\", \"1\", \"2\", \"3\", \"4\", \"5\", \"6\", \"7\", \"8\", \"9\"]\n",
    "plot_confusion_matrix(cnf_matrix, classes=class_names,\n",
    "                      title='Confusion matrix, without normalization')\n",
    "\n"
   ]
  },
  {
   "cell_type": "code",
   "execution_count": 22,
   "metadata": {
    "collapsed": false,
    "deletable": true,
    "editable": true
   },
   "outputs": [
    {
     "name": "stdout",
     "output_type": "stream",
     "text": [
      "Normalized confusion matrix\n",
      "[[  9.95918367e-01   0.00000000e+00   3.40136054e-04   1.02040816e-03\n",
      "    0.00000000e+00   3.40136054e-04   3.40136054e-04   6.80272109e-04\n",
      "    6.80272109e-04   6.80272109e-04]\n",
      " [  0.00000000e+00   9.97944200e-01   5.87371512e-04   0.00000000e+00\n",
      "    0.00000000e+00   0.00000000e+00   2.93685756e-04   8.81057269e-04\n",
      "    2.93685756e-04   0.00000000e+00]\n",
      " [  1.93798450e-03   3.22997416e-04   9.90956072e-01   1.93798450e-03\n",
      "    9.68992248e-04   0.00000000e+00   0.00000000e+00   3.22997416e-03\n",
      "    6.45994832e-04   0.00000000e+00]\n",
      " [  0.00000000e+00   0.00000000e+00   6.60066007e-04   9.94059406e-01\n",
      "    0.00000000e+00   2.31023102e-03   0.00000000e+00   1.32013201e-03\n",
      "    1.65016502e-03   3.30033003e-04]\n",
      " [  0.00000000e+00   0.00000000e+00   1.01832994e-03   3.39443313e-04\n",
      "    9.87101154e-01   6.78886626e-04   1.35777325e-03   6.78886626e-04\n",
      "    3.39443313e-04   8.48608282e-03]\n",
      " [  7.47384155e-04   7.47384155e-04   0.00000000e+00   6.72645740e-03\n",
      "    1.86846039e-03   9.82810164e-01   3.36322870e-03   3.73692078e-04\n",
      "    7.47384155e-04   2.61584454e-03]\n",
      " [  4.87125957e-03   2.43562978e-03   1.73973556e-03   1.04384134e-03\n",
      "    2.08768267e-03   6.61099513e-03   9.79819068e-01   3.47947112e-04\n",
      "    6.95894224e-04   3.47947112e-04]\n",
      " [  3.24254215e-04   3.24254215e-03   4.21530480e-03   1.94552529e-03\n",
      "    1.29701686e-03   3.24254215e-04   0.00000000e+00   9.86381323e-01\n",
      "    3.24254215e-04   1.94552529e-03]\n",
      " [  6.84462697e-04   0.00000000e+00   2.39561944e-03   2.73785079e-03\n",
      "    1.36892539e-03   3.42231348e-04   3.42231348e-04   3.42231348e-04\n",
      "    9.89048597e-01   2.73785079e-03]\n",
      " [  3.30360093e-04   0.00000000e+00   0.00000000e+00   9.91080278e-04\n",
      "    2.97324083e-03   1.32144037e-03   6.60720185e-04   2.31252065e-03\n",
      "    2.31252065e-03   9.89098117e-01]]\n"
     ]
    },
    {
     "data": {
      "image/png": "[encoded data removed]",
      "text/plain": [
       "<matplotlib.figure.Figure at 0x7ff5a221c3d0>"
      ]
     },
     "metadata": {},
     "output_type": "display_data"
    }
   ],
   "source": [
    "plt.figure(figsize = (7,7))\n",
    "\n",
    "plot_confusion_matrix(cnf_matrix, classes=class_names, normalize=True,\n",
    "                      title='Normalized confusion matrix')"
   ]
  },
  {
   "cell_type": "code",
   "execution_count": null,
   "metadata": {
    "collapsed": false,
    "deletable": true,
    "editable": true
   },
   "outputs": [],
   "source": []
  },
  {
   "cell_type": "code",
   "execution_count": null,
   "metadata": {
    "collapsed": true,
    "deletable": true,
    "editable": true
   },
   "outputs": [],
   "source": []
  }
 ],
 "metadata": {
  "kernelspec": {
   "display_name": "Python 2",
   "language": "python",
   "name": "python2"
  },
  "language_info": {
   "codemirror_mode": {
    "name": "ipython",
    "version": 2
   },
   "file_extension": ".py",
   "mimetype": "text/x-python",
   "name": "python",
   "nbconvert_exporter": "python",
   "pygments_lexer": "ipython2",
   "version": "2.7.12"
  }
 },
 "nbformat": 4,
 "nbformat_minor": 1
}
