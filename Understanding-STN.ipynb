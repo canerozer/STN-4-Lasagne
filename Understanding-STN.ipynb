{
 "cells": [
  {
   "cell_type": "code",
   "execution_count": 2,
   "metadata": {
    "collapsed": false,
    "deletable": true,
    "editable": true
   },
   "outputs": [
    {
     "name": "stderr",
     "output_type": "stream",
     "text": [
      "Using gpu device 0: GeForce GTX 1080 (CNMeM is disabled, cuDNN 5110)\n",
      "/usr/local/lib/python2.7/dist-packages/theano/sandbox/cuda/__init__.py:600: UserWarning: Your cuDNN version is more recent than the one Theano officially supports. If you see any problems, try updating Theano or downgrading cuDNN to version 5.\n",
      "  warnings.warn(warn)\n",
      "/usr/local/lib/python2.7/dist-packages/theano/tensor/signal/downsample.py:6: UserWarning: downsample module has been moved to the theano.tensor.signal.pool module.\n",
      "  \"downsample module has been moved to the theano.tensor.signal.pool module.\")\n"
     ]
    }
   ],
   "source": [
    "%matplotlib inline\n",
    "import os\n",
    "os.environ['THEANO_FLAGS']='device=gpu0'\n",
    "\n",
    "import matplotlib\n",
    "import numpy as np\n",
    "np.random.seed(123)\n",
    "import matplotlib.pyplot as plt\n",
    "import lasagne\n",
    "import theano\n",
    "import theano.tensor as T\n",
    "conv = lasagne.layers.Conv2DLayer\n",
    "pool = lasagne.layers.MaxPool2DLayer\n",
    "\n",
    "from lasagne.utils import as_tuple, floatX\n",
    "from lasagne.random import get_rng\n",
    "import cv2\n",
    "\n",
    "NUM_EPOCHS = 11\n",
    "BATCH_SIZE = 256\n",
    "LEARNING_RATE = 0.00001\n",
    "DIM = 60\n",
    "NUM_CLASSES = 10\n",
    "mnist_cluttered = \"mnist_cluttered_60x60_6distortions.npz\"\n",
    "#INPUT FILE DEGISTIRILECEK"
   ]
  },
  {
   "cell_type": "code",
   "execution_count": 3,
   "metadata": {
    "collapsed": true,
    "deletable": true,
    "editable": true
   },
   "outputs": [],
   "source": [
    "def _linspace(start, stop, num):\n",
    "    # Theano linspace. Behaves similar to np.linspace\n",
    "    start = T.cast(start, theano.config.floatX)\n",
    "    stop = T.cast(stop, theano.config.floatX)\n",
    "    num = T.cast(num, theano.config.floatX)\n",
    "    step = (stop-start)/(num-1)\n",
    "    return T.arange(num, dtype=theano.config.floatX)*step+start"
   ]
  },
  {
   "cell_type": "code",
   "execution_count": 4,
   "metadata": {
    "collapsed": false,
    "deletable": true,
    "editable": true
   },
   "outputs": [
    {
     "data": {
      "text/plain": [
       "True"
      ]
     },
     "execution_count": 4,
     "metadata": {},
     "output_type": "execute_result"
    }
   ],
   "source": [
    "a = T.dscalar()\n",
    "b = T.dscalar()\n",
    "\n",
    "c = a + b\n",
    "\n",
    "f = theano.function([a,b], c)\n",
    "\n",
    "np.allclose(f(16.3, 12.1), 28.4)"
   ]
  },
  {
   "cell_type": "code",
   "execution_count": 5,
   "metadata": {
    "collapsed": false,
    "deletable": true,
    "editable": true
   },
   "outputs": [
    {
     "name": "stdout",
     "output_type": "stream",
     "text": [
      "20\n",
      "<type 'int'>\n",
      "<type 'float'>\n",
      "20\n"
     ]
    }
   ],
   "source": [
    "print 60 /3\n",
    "print type(60 //3)\n",
    "\n",
    "print type(60 //3.1)\n",
    "print 60 // 3\n",
    "\n"
   ]
  },
  {
   "cell_type": "code",
   "execution_count": 6,
   "metadata": {
    "collapsed": false,
    "deletable": true,
    "editable": true
   },
   "outputs": [],
   "source": [
    "np.set_printoptions(threshold=np.nan)\n",
    "width = 20\n",
    "height = 20\n",
    "\n",
    "x_t, y_t = np.meshgrid(np.linspace(-1, 1, width),\n",
    "                np.linspace(-1, 1, height))\n",
    "ones = np.ones(np.prod(x_t.shape))\n",
    "grid = np.vstack([x_t.flatten(), y_t.flatten(), ones])\n",
    "\n",
    "# print x_t\n",
    "# print type(grid)\n",
    "# print grid.dtype\n",
    "# print grid.shape"
   ]
  },
  {
   "cell_type": "code",
   "execution_count": 9,
   "metadata": {
    "collapsed": false,
    "deletable": true,
    "editable": true
   },
   "outputs": [
    {
     "name": "stdout",
     "output_type": "stream",
     "text": [
      "(3.0, 3.0)\n"
     ]
    }
   ],
   "source": [
    "downsample_factor = 3.0\n",
    "downsample_factor = as_tuple(downsample_factor, 2)\n",
    "\n",
    "print downsample_factor"
   ]
  },
  {
   "cell_type": "code",
   "execution_count": 10,
   "metadata": {
    "collapsed": true,
    "deletable": true,
    "editable": true
   },
   "outputs": [],
   "source": [
    "def _transform_affine(theta, input, downsample_factor):\n",
    "    \n",
    "    \n",
    "    num_batch, num_channels, height, width = input.shape\n",
    "    theta = np.reshape(theta, (-1, 2, 3))\n",
    "    \n",
    "    # grid of (x_t, y_t, 1), eq (1) in ref [1]\n",
    "    out_height = int(height // downsample_factor[0])\n",
    "    out_width = int(width // downsample_factor[1])\n",
    "    grid = _meshgrid(out_height, out_width)\n",
    "\n",
    "    # Transform A x (x_t, y_t, 1)^T -> (x_s, y_s)\n",
    "    T_g = np.dot(theta, grid)\n",
    "    x_s = T_g[:, 0]\n",
    "    y_s = T_g[:, 1]\n",
    "    x_s_flat = x_s.flatten()\n",
    "    y_s_flat = y_s.flatten()\n",
    "\n",
    "    # dimshuffle input to  (bs, height, width, channels)\n",
    "    input_dim = input.transpose(0, 2, 3, 1)\n",
    "    input_transformed = _interpolate(\n",
    "        input_dim, x_s_flat, y_s_flat,\n",
    "        out_height, out_width)\n",
    " \n",
    "    \n",
    "    output = np.reshape(\n",
    "        input_transformed, (num_batch, out_height, out_width, num_channels))\n",
    "    output = output.transpose(0, 3, 1, 2)  # dimshuffle to conv format\n",
    "    return output, T_g\n",
    "\n",
    "def _meshgrid(height, width):\n",
    "    x_t, y_t = np.meshgrid(np.linspace(-1, 1, width),\n",
    "                        np.linspace(-1, 1, height))\n",
    "    ones = np.ones(np.prod(x_t.shape))\n",
    "    grid = np.vstack([x_t.flatten(), y_t.flatten(), ones])\n",
    "    return grid\n",
    "\n",
    "def _interpolate(im, x, y, out_height, out_width):\n",
    "    # *_f are floats\n",
    "    num_batch, height, width, channels = im.shape\n",
    "    height_f = float(height)\n",
    "    width_f = float(width)\n",
    "\n",
    "    # clip coordinates to [-1, 1]\n",
    "    x = np.clip(x, -1, 1)\n",
    "    y = np.clip(y, -1, 1)\n",
    "\n",
    "    # scale coordinates from [-1, 1] to [0, width/height - 1]\n",
    "    x = (x + 1) / 2 * (width_f - 1)\n",
    "    y = (y + 1) / 2 * (height_f - 1)\n",
    "\n",
    "    # obtain indices of the 2x2 pixel neighborhood surrounding the coordinates;\n",
    "    # we need those in floatX for interpolation and in int64 for indexing. for\n",
    "    # indexing, we need to take care they do not extend past the image.\n",
    "    x0_f = np.floor(x)\n",
    "    y0_f = np.floor(y)\n",
    "    x1_f = x0_f + 1\n",
    "    y1_f = y0_f + 1\n",
    "    x0 = x0_f.astype(\"int\")\n",
    "    y0 = y0_f.astype(\"int\")\n",
    "    \n",
    "    \n",
    "    x1 = np.minimum(x1_f, width_f - 1).astype(\"int\")\n",
    "    y1 = np.minimum(y1_f, height_f - 1).astype(\"int\")\n",
    "\n",
    "    # The input is [num_batch, height, width, channels]. We do the lookup in\n",
    "    # the flattened input, i.e [num_batch*height*width, channels]. We need\n",
    "    # to offset all indices to match the flat version\n",
    "    dim2 = width\n",
    "    dim1 = width*height\n",
    "    base = np.repeat(\n",
    "        np.arange(num_batch, dtype='int64')*dim1, out_height*out_width)\n",
    "    base_y0 = base + y0*dim2\n",
    "    base_y1 = base + y1*dim2\n",
    "    idx_a = base_y0 + x0\n",
    "    idx_b = base_y1 + x0\n",
    "    idx_c = base_y0 + x1\n",
    "    idx_d = base_y1 + x1\n",
    "\n",
    "    # use indices to lookup pixels for all samples\n",
    "    im_flat = im.reshape((-1, channels))\n",
    "    Ia = im_flat[idx_a]\n",
    "    Ib = im_flat[idx_b]\n",
    "    Ic = im_flat[idx_c]\n",
    "    Id = im_flat[idx_d]\n",
    "\n",
    "    # calculate interpolated values\n",
    "    wa = np.expand_dims((x1_f-x) * (y1_f-y), 1)\n",
    "    wb = np.expand_dims((x1_f-x) * (y-y0_f), 1)\n",
    "    wc = np.expand_dims((x-x0_f) * (y1_f-y), 1)\n",
    "    wd = np.expand_dims((x-x0_f) * (y-y0_f), 1)\n",
    "    \n",
    "    output = np.sum([wa*Ia, wb*Ib, wc*Ic, wd*Id], axis=0)\n",
    "    return output\n"
   ]
  },
  {
   "cell_type": "code",
   "execution_count": 88,
   "metadata": {
    "collapsed": false,
    "deletable": true,
    "editable": true
   },
   "outputs": [
    {
     "name": "stdout",
     "output_type": "stream",
     "text": [
      "(1, 3, 60, 60)\n"
     ]
    }
   ],
   "source": [
    "import cv2\n",
    "test_image = cv2.imread(\"/home/dontgetdown/Documents/caner_grad/MNIST_IMAGES/10_45_90_derece/10k+10k_test/3/23305.png\")\n",
    "test_image = np.expand_dims(test_image.transpose(2, 0, 1), 0)\n",
    "print test_image.shape\n",
    "thetas = [[ 0.49938843,  0.03984484, -0.02736071, -0.03870711,  0.51125753, -0.12223954]]\n",
    "# thetas = [[ 0.5, 0.5, 0, -0.5,  0.5, 0]]\n",
    "downsample_factor = (1.0, 1.0)\n",
    "out_pic = _transform_affine(thetas, test_image, downsample_factor)"
   ]
  },
  {
   "cell_type": "code",
   "execution_count": 94,
   "metadata": {
    "collapsed": false,
    "deletable": true,
    "editable": true
   },
   "outputs": [
    {
     "data": {
      "text/plain": [
       "<matplotlib.image.AxesImage at 0x7f703d797650>"
      ]
     },
     "execution_count": 94,
     "metadata": {},
     "output_type": "execute_result"
    },
    {
     "data": {
      "image/png": "[encoded data removed]",
      "text/plain": [
       "<matplotlib.figure.Figure at 0x7f703d814f50>"
      ]
     },
     "metadata": {},
     "output_type": "display_data"
    }
   ],
   "source": [
    "# plt.imshow(out_pic[0][0].transpose(1,2,0), cmap='gray', interpolation='none')\n",
    "plt.imshow(out_pic[0][0].swapaxes(0, 2).swapaxes(0, 1), cmap='gray', interpolation='none')\n",
    "\n"
   ]
  },
  {
   "cell_type": "code",
   "execution_count": 76,
   "metadata": {
    "collapsed": false
   },
   "outputs": [
    {
     "data": {
      "text/plain": [
       "<matplotlib.image.AxesImage at 0x7f703dcf35d0>"
      ]
     },
     "execution_count": 76,
     "metadata": {},
     "output_type": "execute_result"
    },
    {
     "data": {
      "image/png": "[encoded data removed]",
      "text/plain": [
       "<matplotlib.figure.Figure at 0x7f70482d7b10>"
      ]
     },
     "metadata": {},
     "output_type": "display_data"
    }
   ],
   "source": []
  },
  {
   "cell_type": "code",
   "execution_count": 33,
   "metadata": {
    "collapsed": false,
    "deletable": true,
    "editable": true
   },
   "outputs": [
    {
     "data": {
      "text/plain": [
       "<matplotlib.image.AxesImage at 0x7f704808bd10>"
      ]
     },
     "execution_count": 33,
     "metadata": {},
     "output_type": "execute_result"
    },
    {
     "data": {
      "image/png": "[encoded data removed]",
      "text/plain": [
       "<matplotlib.figure.Figure at 0x7f703ed4c2d0>"
      ]
     },
     "metadata": {},
     "output_type": "display_data"
    }
   ],
   "source": [
    "plt.imshow(test_image[0].transpose(1,2,0), cmap='gray', interpolation='none')\n"
   ]
  },
  {
   "cell_type": "code",
   "execution_count": null,
   "metadata": {
    "collapsed": true
   },
   "outputs": [],
   "source": []
  }
 ],
 "metadata": {
  "kernelspec": {
   "display_name": "Python 2",
   "language": "python",
   "name": "python2"
  },
  "language_info": {
   "codemirror_mode": {
    "name": "ipython",
    "version": 2
   },
   "file_extension": ".py",
   "mimetype": "text/x-python",
   "name": "python",
   "nbconvert_exporter": "python",
   "pygments_lexer": "ipython2",
   "version": "2.7.12"
  }
 },
 "nbformat": 4,
 "nbformat_minor": 2
}
